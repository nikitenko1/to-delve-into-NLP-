{
 "cells": [
  {
   "cell_type": "markdown",
   "id": "2162c615",
   "metadata": {},
   "source": [
    "<p style=\"font-family:Verdana; font-size: 26px; color: magenta\"> 2.1 - Python NLTK | nltk.tokenizer.word_tokenize()</p>"
   ]
  },
  {
   "cell_type": "markdown",
   "id": "10b4febe",
   "metadata": {},
   "source": [
    "<p style=\"font-family:Verdana; font-size: 18px; color: darkorange\"> Syntax : tokenize.word_tokenize()/p>"
   ]
  },
  {
   "cell_type": "code",
   "execution_count": 1,
   "id": "241e3279",
   "metadata": {},
   "outputs": [],
   "source": [
    "import nltk "
   ]
  },
  {
   "cell_type": "markdown",
   "id": "dcaebabb",
   "metadata": {},
   "source": [
    "<p style=\"font-family:Verdana; font-size: 18px; color: magenta\"> Example #1 </p>"
   ]
  },
  {
   "cell_type": "code",
   "execution_count": 2,
   "id": "42aaec51",
   "metadata": {},
   "outputs": [
    {
     "name": "stdout",
     "output_type": "stream",
     "text": [
      "['Anti', 'di', 'ses', 'ta', 'blis', 'hmen', 'ta', 'ria', 'nism']\n"
     ]
    }
   ],
   "source": [
    " \n",
    "# Create a reference variable for Class word_tokenize\n",
    "tk = nltk.SyllableTokenizer()\n",
    "   \n",
    "# Create a string input\n",
    "gfg = \"Antidisestablishmentarianism\"\n",
    "   \n",
    "# Use tokenize method\n",
    "geek = tk.tokenize(gfg)\n",
    "   \n",
    "print(geek)"
   ]
  },
  {
   "cell_type": "markdown",
   "id": "1011967e",
   "metadata": {},
   "source": [
    "<p style=\"font-family:Verdana; font-size: 18px; color: magenta\"> Example #2 :</p>"
   ]
  },
  {
   "cell_type": "code",
   "execution_count": 3,
   "id": "fe3e0b9d",
   "metadata": {},
   "outputs": [
    {
     "name": "stdout",
     "output_type": "stream",
     "text": [
      "['Ga', 'me', 'top', 'hy', 'te']\n"
     ]
    }
   ],
   "source": [
    "# Create a reference variable for Class word_tokenize\n",
    "tk = nltk.SyllableTokenizer()\n",
    "   \n",
    "# Create a string input\n",
    "gfg = \"Gametophyte\"\n",
    "   \n",
    "# Use tokenize method\n",
    "geek = tk.tokenize(gfg)\n",
    "   \n",
    "print(geek)"
   ]
  }
 ],
 "metadata": {
  "kernelspec": {
   "display_name": "base",
   "language": "python",
   "name": "python3"
  },
  "language_info": {
   "codemirror_mode": {
    "name": "ipython",
    "version": 3
   },
   "file_extension": ".py",
   "mimetype": "text/x-python",
   "name": "python",
   "nbconvert_exporter": "python",
   "pygments_lexer": "ipython3",
   "version": "3.12.7"
  }
 },
 "nbformat": 4,
 "nbformat_minor": 5
}
