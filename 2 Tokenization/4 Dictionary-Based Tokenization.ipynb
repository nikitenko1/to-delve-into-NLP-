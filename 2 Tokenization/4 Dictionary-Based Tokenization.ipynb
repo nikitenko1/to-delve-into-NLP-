{
 "cells": [
  {
   "cell_type": "markdown",
   "id": "2162c615",
   "metadata": {},
   "source": [
    "<p style=\"font-family:Verdana; font-size: 26px; color: magenta\"> 2.4 - Dictionary Based Tokenization in NLP</p>"
   ]
  },
  {
   "cell_type": "markdown",
   "id": "10b4febe",
   "metadata": {},
   "source": [
    " \n",
    "<p style=\"font-family:Verdana; font-size: 18px; color: darkorange\"> Steps needed for implementing Dictionary-based tokenization:</p>\n"
   ]
  },
  {
   "cell_type": "markdown",
   "id": "9390f433",
   "metadata": {},
   "source": [
    "<p style=\"font-family:Verdana; font-size: 18px; color: yellow\"> Step 1: Collect a dictionary of words  </p>\n",
    "<p style=\"font-family:Verdana; font-size: 18px; color: yellow\"> Step 2: Preprocess the text by removing any noise </p>\n",
    "<p style=\"font-family:Verdana; font-size: 18px; color: yellow\"> Step 3: Tokenize the text into words </p>\n",
    "<p style=\"font-family:Verdana; font-size: 18px; color: yellow\"> Step 4: Identify the parts of speech of each word in the text</p>\n",
    "<p style=\"font-family:Verdana; font-size: 18px; color: yellow\"> Step 5: Segment the text into tokens</p>"
   ]
  },
  {
   "cell_type": "code",
   "execution_count": 1,
   "id": "241e3279",
   "metadata": {},
   "outputs": [],
   "source": [
    "from nltk import word_tokenize\n",
    "from nltk.tokenize import MWETokenizer"
   ]
  },
  {
   "cell_type": "markdown",
   "id": "dcaebabb",
   "metadata": {},
   "source": [
    "<p style=\"font-family:Verdana; font-size: 18px; color: magenta\"> Step 2: Create a custom dictionary using the name or phrases</p>"
   ]
  },
  {
   "cell_type": "code",
   "execution_count": 2,
   "id": "42aaec51",
   "metadata": {},
   "outputs": [],
   "source": [
    "dictionary = [(\"Jammu\", \"Kashmir\"), \n",
    "              (\"Pawan\", \"Kumar\", \"Gunjan\"), \n",
    "              (\"Himachal\", \"Pradesh\")]"
   ]
  },
  {
   "cell_type": "markdown",
   "id": "1011967e",
   "metadata": {},
   "source": [
    "<p style=\"font-family:Verdana; font-size: 18px; color: magenta\"> Step 3: Create an instance of MWETokenizer with the dictionary</p>"
   ]
  },
  {
   "cell_type": "code",
   "execution_count": 3,
   "id": "fe3e0b9d",
   "metadata": {},
   "outputs": [],
   "source": [
    "Dictionary_tokenizer = MWETokenizer(dictionary, separator=' ')"
   ]
  },
  {
   "cell_type": "markdown",
   "id": "66ece6fb",
   "metadata": {},
   "source": [
    "<p style=\"font-family:Verdana; font-size: 18px; color: magenta\"> Step 4: Create a text dataset and tokenize with word_tokenize</p>"
   ]
  },
  {
   "cell_type": "code",
   "execution_count": 4,
   "id": "abeb0842",
   "metadata": {},
   "outputs": [
    {
     "data": {
      "text/plain": [
       "['Jammu',\n",
       " 'Kashmir',\n",
       " 'is',\n",
       " 'an',\n",
       " 'integral',\n",
       " 'part',\n",
       " 'of',\n",
       " 'India',\n",
       " '.',\n",
       " 'My',\n",
       " 'name',\n",
       " 'is',\n",
       " 'Pawan',\n",
       " 'Kumar',\n",
       " 'Gunjan',\n",
       " '.',\n",
       " 'He',\n",
       " 'is',\n",
       " 'from',\n",
       " 'Himachal',\n",
       " 'Pradesh',\n",
       " '.']"
      ]
     },
     "execution_count": 4,
     "metadata": {},
     "output_type": "execute_result"
    }
   ],
   "source": [
    "text = \"\"\"\n",
    "Jammu Kashmir is an integral part of India.\n",
    "My name is Pawan Kumar Gunjan.\n",
    "He is from Himachal Pradesh.\n",
    "\"\"\"\n",
    "tokens = word_tokenize(text)\n",
    "tokens"
   ]
  },
  {
   "cell_type": "markdown",
   "id": "a4ddfa14",
   "metadata": {},
   "source": [
    "<p style=\"font-family:Verdana; font-size: 18px; color: magenta\"> Step 5:  Apply Dictionary based tokenization with Dictionary_tokenizer</p>"
   ]
  },
  {
   "cell_type": "code",
   "execution_count": 5,
   "id": "65de9837",
   "metadata": {},
   "outputs": [
    {
     "data": {
      "text/plain": [
       "['Jammu Kashmir',\n",
       " 'is',\n",
       " 'an',\n",
       " 'integral',\n",
       " 'part',\n",
       " 'of',\n",
       " 'India',\n",
       " '.',\n",
       " 'My',\n",
       " 'name',\n",
       " 'is',\n",
       " 'Pawan Kumar Gunjan',\n",
       " '.',\n",
       " 'He',\n",
       " 'is',\n",
       " 'from',\n",
       " 'Himachal Pradesh',\n",
       " '.']"
      ]
     },
     "execution_count": 5,
     "metadata": {},
     "output_type": "execute_result"
    }
   ],
   "source": [
    "dictionary_based_token =Dictionary_tokenizer.tokenize(tokens)\n",
    "dictionary_based_token"
   ]
  }
 ],
 "metadata": {
  "kernelspec": {
   "display_name": "base",
   "language": "python",
   "name": "python3"
  },
  "language_info": {
   "codemirror_mode": {
    "name": "ipython",
    "version": 3
   },
   "file_extension": ".py",
   "mimetype": "text/x-python",
   "name": "python",
   "nbconvert_exporter": "python",
   "pygments_lexer": "ipython3",
   "version": "3.12.7"
  }
 },
 "nbformat": 4,
 "nbformat_minor": 5
}
