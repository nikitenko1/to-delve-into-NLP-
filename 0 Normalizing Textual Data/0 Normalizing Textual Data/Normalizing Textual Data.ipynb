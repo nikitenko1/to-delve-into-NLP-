{
 "cells": [
  {
   "cell_type": "markdown",
   "id": "2162c615",
   "metadata": {},
   "source": [
    "<p style=\"font-family:Verdana; font-size: 26px; color: magenta\"> 0 - Natural Language Processing (NLP)</p>"
   ]
  },
  {
   "cell_type": "markdown",
   "id": "10b4febe",
   "metadata": {},
   "source": [
    "<p style=\"font-family:Verdana; font-size: 18px; color: darkorange\"> Text normalization is that the method of transforming text into one canonical form that it'd not have had before.\n",
    "</p>"
   ]
  },
  {
   "cell_type": "markdown",
   "id": "75ac2781",
   "metadata": {},
   "source": [
    "<p style=\"font-family:Verdana; font-size: 18px; color: orange\"> Input text String,</p>\n",
    "<p style=\"font-family:Verdana; font-size: 18px; color: orange\"> Convert all letters of the string to one case(either lower or upper case),</p>\n",
    "<p style=\"font-family:Verdana; font-size: 18px; color: orange\"> If numbers are essential to convert to words else remove all numbers,</p>\n",
    "<p style=\"font-family:Verdana; font-size: 18px; color: orange\"> Remove punctuations, other formalities of grammar,</p>\n",
    "<p style=\"font-family:Verdana; font-size: 18px; color: orange\"> Remove white spaces,</p>\n",
    "<p style=\"font-family:Verdana; font-size: 18px; color: orange\"> Remove stop words,</p>\n",
    "<p style=\"font-family:Verdana; font-size: 18px; color: orange\"> And any other computations.</p>"
   ]
  },
  {
   "cell_type": "code",
   "execution_count": 2,
   "id": "646212ed",
   "metadata": {},
   "outputs": [
    {
     "name": "stdout",
     "output_type": "stream",
     "text": [
      "       Python 3.0, released in 2008, was a major revision of the language that is not completely backward compatible and much Python 2 code does not run unmodified on Python 3. With Python 2's end-of-life, only Python 3.6.x[30] and later are supported, with older versions still supporting e.g. Windows 7 (and old installers not restricted to 64-bit Windows).\n"
     ]
    }
   ],
   "source": [
    "# input string \n",
    "string = \"       Python 3.0, released in 2008, was a major revision of the language that is not completely backward compatible and much Python 2 code does not run unmodified on Python 3. With Python 2's end-of-life, only Python 3.6.x[30] and later are supported, with older versions still supporting e.g. Windows 7 (and old installers not restricted to 64-bit Windows).\"\n",
    "print(string)"
   ]
  },
  {
   "cell_type": "markdown",
   "id": "40a93a91",
   "metadata": {},
   "source": [
    "<p style=\"font-family:Verdana; font-size: 18px; color: magenta\"> Case Conversion (Lower Case)</p>"
   ]
  },
  {
   "cell_type": "code",
   "execution_count": 3,
   "id": "d6e97c78",
   "metadata": {},
   "outputs": [
    {
     "name": "stdout",
     "output_type": "stream",
     "text": [
      "       python 3.0, released in 2008, was a major revision of the language that is not completely backward compatible and much python 2 code does not run unmodified on python 3. with python 2's end-of-life, only python 3.6.x[30] and later are supported, with older versions still supporting e.g. windows 7 (and old installers not restricted to 64-bit windows).\n"
     ]
    }
   ],
   "source": [
    "# convert to lower case\n",
    "lower_string = string.lower()\n",
    "print(lower_string)"
   ]
  },
  {
   "cell_type": "markdown",
   "id": "184911b2",
   "metadata": {},
   "source": [
    "<p style=\"font-family:Verdana; font-size: 18px; color: magenta\"> Removing Numbers</p>"
   ]
  },
  {
   "cell_type": "code",
   "execution_count": 4,
   "id": "096de0da",
   "metadata": {},
   "outputs": [
    {
     "name": "stdout",
     "output_type": "stream",
     "text": [
      "       python ., released in , was a major revision of the language that is not completely backward compatible and much python  code does not run unmodified on python . with python 's end-of-life, only python ..x[] and later are supported, with older versions still supporting e.g. windows  (and old installers not restricted to -bit windows).\n"
     ]
    }
   ],
   "source": [
    "# import regex\n",
    "import re\n",
    "\n",
    "# remove numbers\n",
    "no_number_string = re.sub(r'\\d+','',lower_string)\n",
    "print(no_number_string)"
   ]
  },
  {
   "cell_type": "markdown",
   "id": "c5e4ca48",
   "metadata": {},
   "source": [
    "<p style=\"font-family:Verdana; font-size: 18px; color: magenta\"> Removing punctuation</p>"
   ]
  },
  {
   "cell_type": "code",
   "execution_count": 5,
   "id": "cd712c6a",
   "metadata": {},
   "outputs": [
    {
     "name": "stdout",
     "output_type": "stream",
     "text": [
      "       python  released in  was a major revision of the language that is not completely backward compatible and much python  code does not run unmodified on python  with python s endoflife only python x and later are supported with older versions still supporting eg windows  and old installers not restricted to bit windows\n"
     ]
    }
   ],
   "source": [
    "# remove all punctuation except words and space\n",
    "no_punc_string = re.sub(r'[^\\w\\s]','', no_number_string) \n",
    "print(no_punc_string)"
   ]
  },
  {
   "cell_type": "markdown",
   "id": "90d7d656",
   "metadata": {},
   "source": [
    "<p style=\"font-family:Verdana; font-size: 18px; color: magenta\"> Removing White space</p>"
   ]
  },
  {
   "cell_type": "code",
   "execution_count": 6,
   "id": "42b8f91f",
   "metadata": {},
   "outputs": [
    {
     "name": "stdout",
     "output_type": "stream",
     "text": [
      "python  released in  was a major revision of the language that is not completely backward compatible and much python  code does not run unmodified on python  with python s endoflife only python x and later are supported with older versions still supporting eg windows  and old installers not restricted to bit windows\n"
     ]
    }
   ],
   "source": [
    "# The strip() function is an inbuilt function in Python\n",
    "# remove white spaces\n",
    "no_wspace_string = no_punc_string.strip()\n",
    "print(no_wspace_string)"
   ]
  },
  {
   "cell_type": "markdown",
   "id": "10755937",
   "metadata": {},
   "source": [
    "<p style=\"font-family:Verdana; font-size: 18px; color: magenta\"> Removing Stop Words</p>"
   ]
  },
  {
   "cell_type": "code",
   "execution_count": 9,
   "id": "9883220a",
   "metadata": {},
   "outputs": [
    {
     "name": "stdout",
     "output_type": "stream",
     "text": [
      "{\"he's\", 'needn', \"it's\", \"needn't\", 'hers', 'any', 'while', 'their', 'herself', 'being', 'after', 'again', 'she', 't', 'this', \"hadn't\", 'should', \"he'll\", 'in', \"they've\", 'than', 'other', 'mustn', 'both', \"they're\", 'doesn', 'a', 'further', 'we', 'there', 'ain', 'with', \"it'd\", 'were', \"wasn't\", 'that', 'under', \"you'd\", 'and', 'i', \"shouldn't\", 'where', 'be', \"that'll\", 'against', 'own', 'it', 'y', \"aren't\", \"she'll\", 'what', 'during', 'does', 'each', 'those', \"haven't\", 'nor', 's', 'some', 'about', 'her', 'our', 'once', \"we're\", 'down', 'didn', 'doing', \"he'd\", \"it'll\", 'you', 'o', 'was', 'weren', \"don't\", 'will', 'are', 'until', 'to', 'into', 've', 'd', \"they'll\", \"should've\", 'not', \"isn't\", 'why', 'him', 'above', 'ours', 'just', 'myself', 'do', 'when', \"they'd\", 'won', 'the', 'hadn', 'haven', 'your', 'shouldn', 'did', 'ma', 'is', 'but', \"i'm\", \"doesn't\", 'have', 'more', 'ourselves', 'too', 'on', 'his', 'over', 'then', \"i'd\", 'whom', \"hasn't\", 'out', 'before', 'yourselves', \"you've\", 'up', \"i'll\", 'or', 'if', \"she's\", 'theirs', \"we'll\", 'which', 'only', 'yours', 'shan', 'from', 'such', 'they', 'itself', \"shan't\", 'can', 'because', 'no', 'had', 'has', 'very', \"didn't\", 'now', \"you're\", 'he', 're', 'hasn', 'few', 'who', 'an', 'isn', \"wouldn't\", 'aren', 'couldn', 'am', 'himself', 'these', \"we've\", 'been', 'how', 'wasn', 'below', \"i've\", 'here', \"mightn't\", 'by', 'all', \"won't\", 'for', 'yourself', 'of', 'themselves', 'as', 'at', 'its', \"we'd\", 'm', 'my', 'so', 'don', 'them', 'having', 'll', 'off', \"you'll\", 'mightn', \"she'd\", 'most', \"mustn't\", \"weren't\", \"couldn't\", 'same', 'through', 'wouldn', 'me', 'between'}\n"
     ]
    }
   ],
   "source": [
    "# Stop words” are the foremost common words during a language like “the”, “a”, “on”, “is”, “all”. \n",
    "# These words don't carry important meaning and are usually faraway from texts.\n",
    "\n",
    "# import nltk for stopwords\n",
    "from nltk.corpus import stopwords\n",
    "stop_words = set(stopwords.words('english'))\n",
    "print(stop_words)"
   ]
  },
  {
   "cell_type": "code",
   "execution_count": 10,
   "id": "f9e7e5ed",
   "metadata": {},
   "outputs": [
    {
     "name": "stdout",
     "output_type": "stream",
     "text": [
      "['python', 'released', 'in', 'was', 'a', 'major', 'revision', 'of', 'the', 'language', 'that', 'is', 'not', 'completely', 'backward', 'compatible', 'and', 'much', 'python', 'code', 'does', 'not', 'run', 'unmodified', 'on', 'python', 'with', 'python', 's', 'endoflife', 'only', 'python', 'x', 'and', 'later', 'are', 'supported', 'with', 'older', 'versions', 'still', 'supporting', 'eg', 'windows', 'and', 'old', 'installers', 'not', 'restricted', 'to', 'bit', 'windows']\n"
     ]
    }
   ],
   "source": [
    "# convert string to list of words\n",
    "lst_string = [no_wspace_string][0].split()\n",
    "print(lst_string)\n"
   ]
  },
  {
   "cell_type": "code",
   "execution_count": 11,
   "id": "ba547b42",
   "metadata": {},
   "outputs": [],
   "source": [
    "# remove stopwords\n",
    "no_stpwords_string=\"\"\n",
    "for i in lst_string:\n",
    "    if not i in stop_words:\n",
    "        no_stpwords_string += i+' '"
   ]
  },
  {
   "cell_type": "code",
   "execution_count": 12,
   "id": "0332220a",
   "metadata": {},
   "outputs": [
    {
     "name": "stdout",
     "output_type": "stream",
     "text": [
      "python released major revision language completely backward compatible much python code run unmodified python python endoflife python x later supported older versions still supporting eg windows old installers restricted bit windows\n"
     ]
    }
   ],
   "source": [
    "# removing last space\n",
    "no_stpwords_string = no_stpwords_string[:-1]\n",
    "print(no_stpwords_string)"
   ]
  },
  {
   "cell_type": "code",
   "execution_count": null,
   "id": "b5f5dc5a",
   "metadata": {},
   "outputs": [],
   "source": []
  }
 ],
 "metadata": {
  "kernelspec": {
   "display_name": "base",
   "language": "python",
   "name": "python3"
  },
  "language_info": {
   "codemirror_mode": {
    "name": "ipython",
    "version": 3
   },
   "file_extension": ".py",
   "mimetype": "text/x-python",
   "name": "python",
   "nbconvert_exporter": "python",
   "pygments_lexer": "ipython3",
   "version": "3.12.7"
  }
 },
 "nbformat": 4,
 "nbformat_minor": 5
}
