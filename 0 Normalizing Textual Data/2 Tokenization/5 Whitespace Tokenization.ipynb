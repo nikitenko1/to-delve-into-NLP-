{
 "cells": [
  {
   "cell_type": "markdown",
   "id": "2162c615",
   "metadata": {},
   "source": [
    "<p style=\"font-family:Verdana; font-size: 26px; color: magenta\"> 2.5 - Whitespace Tokenization</p>"
   ]
  },
  {
   "cell_type": "markdown",
   "id": "10b4febe",
   "metadata": {},
   "source": [
    " \n",
    "<p style=\"font-family:Verdana; font-size: 18px; color: darkorange\"> Syntax : tokenize.WhitespaceTokenizer()</p>\n"
   ]
  },
  {
   "cell_type": "markdown",
   "id": "9390f433",
   "metadata": {},
   "source": [
    "<p style=\"font-family:Verdana; font-size: 18px; color: yellow\"> Return : Return the tokens from a string</p>"
   ]
  },
  {
   "cell_type": "markdown",
   "id": "64cb1e87",
   "metadata": {},
   "source": [
    "<p style=\"font-family:Verdana; font-size: 18px; color: magenta\"> Example #1 :</p>"
   ]
  },
  {
   "cell_type": "code",
   "execution_count": 1,
   "id": "241e3279",
   "metadata": {},
   "outputs": [
    {
     "name": "stdout",
     "output_type": "stream",
     "text": [
      "['GeeksforGeeks', 'is', 'for', 'geeks']\n"
     ]
    }
   ],
   "source": [
    "# import WhitespaceTokenizer() method from nltk\n",
    "from nltk.tokenize import WhitespaceTokenizer\n",
    "   \n",
    "# Create a reference variable for Class WhitespaceTokenizer\n",
    "tk = WhitespaceTokenizer()\n",
    "   \n",
    "# Create a string input\n",
    "gfg = \"GeeksforGeeks \\nis\\t for geeks\"\n",
    "   \n",
    "# Use tokenize method\n",
    "geek = tk.tokenize(gfg)\n",
    "   \n",
    "print(geek)"
   ]
  },
  {
   "cell_type": "markdown",
   "id": "dcaebabb",
   "metadata": {},
   "source": [
    "<p style=\"font-family:Verdana; font-size: 18px; color: magenta\"> Example #2 :</p>"
   ]
  },
  {
   "cell_type": "code",
   "execution_count": 2,
   "id": "42aaec51",
   "metadata": {},
   "outputs": [
    {
     "name": "stdout",
     "output_type": "stream",
     "text": [
      "['The', 'price', 'of', 'burger', 'in', 'BurgerKing', 'is', 'Rs.36.']\n"
     ]
    }
   ],
   "source": [
    "# import WhitespaceTokenizer() method from nltk\n",
    "from nltk.tokenize import WhitespaceTokenizer\n",
    "   \n",
    "# Create a reference variable for Class WhitespaceTokenizer\n",
    "tk = WhitespaceTokenizer()\n",
    "   \n",
    "# Create a string input\n",
    "gfg = \"The price\\t of burger \\nin BurgerKing is Rs.36.\\n\"\n",
    "   \n",
    "# Use tokenize method\n",
    "geek = tk.tokenize(gfg)\n",
    "   \n",
    "print(geek)"
   ]
  },
  {
   "cell_type": "code",
   "execution_count": null,
   "id": "f8164ad6",
   "metadata": {},
   "outputs": [],
   "source": []
  }
 ],
 "metadata": {
  "kernelspec": {
   "display_name": "base",
   "language": "python",
   "name": "python3"
  },
  "language_info": {
   "codemirror_mode": {
    "name": "ipython",
    "version": 3
   },
   "file_extension": ".py",
   "mimetype": "text/x-python",
   "name": "python",
   "nbconvert_exporter": "python",
   "pygments_lexer": "ipython3",
   "version": "3.12.7"
  }
 },
 "nbformat": 4,
 "nbformat_minor": 5
}
