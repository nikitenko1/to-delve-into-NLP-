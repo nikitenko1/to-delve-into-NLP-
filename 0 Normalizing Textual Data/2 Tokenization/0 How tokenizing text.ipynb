{
 "cells": [
  {
   "cell_type": "markdown",
   "id": "2162c615",
   "metadata": {},
   "source": [
    "<p style=\"font-family:Verdana; font-size: 26px; color: magenta\"> 2.0 - NLP | How tokenizing text, sentence, words works</p>"
   ]
  },
  {
   "cell_type": "markdown",
   "id": "10b4febe",
   "metadata": {},
   "source": [
    "<p style=\"font-family:Verdana; font-size: 18px; color: darkorange\"> Tokenization in natural language processing (NLP) is a technique that involves dividing a sentence or phrase into smaller units known as tokens</p>"
   ]
  },
  {
   "cell_type": "markdown",
   "id": "75ac2781",
   "metadata": {},
   "source": [
    "<p style=\"font-family:Verdana; font-size: 22px; color: magenta\"> Types of Tokenization </p>\n",
    "<p style=\"font-family:Verdana; font-size: 20px; color: yellow\">1 Word Tokenization:</p>\n",
    "<p style=\"font-family:Verdana; font-size: 20px; color: yellow\">2 Sentence Tokenization:</p>\n",
    "<p style=\"font-family:Verdana; font-size: 20px; color: yellow\">3 Subword Tokenization:</p>\n",
    "<p style=\"font-family:Verdana; font-size: 20px; color: yellow\">4 Character Tokenization:</p>\n"
   ]
  },
  {
   "cell_type": "code",
   "execution_count": null,
   "id": "241e3279",
   "metadata": {},
   "outputs": [],
   "source": [
    "import nltk\n",
    "# nltk.download('punkt')\n",
    "# nltk.download('wordnet')\n",
    "# nltk.download('omw-1.4')\n",
    "# nltk.download('punkt_tab')"
   ]
  },
  {
   "cell_type": "markdown",
   "id": "dcaebabb",
   "metadata": {},
   "source": [
    "<p style=\"font-family:Verdana; font-size: 18px; color: magenta\"> Sentence Tokenization using sent_tokenize</p>"
   ]
  },
  {
   "cell_type": "code",
   "execution_count": 8,
   "id": "42aaec51",
   "metadata": {},
   "outputs": [
    {
     "data": {
      "text/plain": [
       "['Hello everyone.',\n",
       " 'Welcome to GeeksforGeeks.',\n",
       " 'You are studying NLP article.']"
      ]
     },
     "execution_count": 8,
     "metadata": {},
     "output_type": "execute_result"
    }
   ],
   "source": [
    "from nltk.tokenize import sent_tokenize\n",
    "text = \"Hello everyone. Welcome to GeeksforGeeks. You are studying NLP article.\"\n",
    "# Return a sentence-tokenized copy of text\n",
    "sent_tokenize(text)"
   ]
  },
  {
   "cell_type": "markdown",
   "id": "1011967e",
   "metadata": {},
   "source": [
    "<p style=\"font-family:Verdana; font-size: 18px; color: magenta\"> Sentence Tokenization using PunktSentenceTokenizer</p>"
   ]
  },
  {
   "cell_type": "code",
   "execution_count": 9,
   "id": "fe3e0b9d",
   "metadata": {},
   "outputs": [
    {
     "data": {
      "text/plain": [
       "['Hello everyone.',\n",
       " 'Welcome to GeeksforGeeks.',\n",
       " 'You are studying NLP article.']"
      ]
     },
     "execution_count": 9,
     "metadata": {},
     "output_type": "execute_result"
    }
   ],
   "source": [
    "# When we have huge chunks of data then it is efficient to use 'PunktSentenceTokenizer'\n",
    "# Loading PunktSentenceTokenizer using English pickle file\n",
    "tokenizer = nltk.data.load('tokenizers/punkt/PY3/english.pickle')\n",
    "tokenizer.tokenize(text)"
   ]
  },
  {
   "cell_type": "markdown",
   "id": "db98d28e",
   "metadata": {},
   "source": [
    "<p style=\"font-family:Verdana; font-size: 18px; color: magenta\"> Tokenize sentence of different language</p>"
   ]
  },
  {
   "cell_type": "code",
   "execution_count": 10,
   "id": "9ccef78b",
   "metadata": {},
   "outputs": [
    {
     "data": {
      "text/plain": [
       "['Hola amigo.', 'Estoy bien.']"
      ]
     },
     "execution_count": 10,
     "metadata": {},
     "output_type": "execute_result"
    }
   ],
   "source": [
    "spanish_tokenizer = nltk.data.load('tokenizers/punkt/PY3/spanish.pickle')\n",
    "\n",
    "text = 'Hola amigo. Estoy bien.'\n",
    "spanish_tokenizer.tokenize(text)"
   ]
  },
  {
   "cell_type": "markdown",
   "id": "02ae5afd",
   "metadata": {},
   "source": [
    "<p style=\"font-family:Verdana; font-size: 18px; color: magenta\"> Word Tokenization using work_tokenize</p>"
   ]
  },
  {
   "cell_type": "code",
   "execution_count": 13,
   "id": "49a7c76a",
   "metadata": {},
   "outputs": [
    {
     "data": {
      "text/plain": [
       "['Panic',\n",
       " 'as',\n",
       " 'nationwide',\n",
       " 'pharmacy',\n",
       " 'chain',\n",
       " 'to',\n",
       " 'disappear',\n",
       " 'amid',\n",
       " 'bankruptcy',\n",
       " 'and',\n",
       " 'mass',\n",
       " 'closures',\n",
       " '.']"
      ]
     },
     "execution_count": 13,
     "metadata": {},
     "output_type": "execute_result"
    }
   ],
   "source": [
    "text = \"Panic as nationwide pharmacy chain to disappear amid bankruptcy and mass closures.\"\n",
    "nltk.word_tokenize(text)"
   ]
  },
  {
   "cell_type": "markdown",
   "id": "e6a2799b",
   "metadata": {},
   "source": [
    "<p style=\"font-family:Verdana; font-size: 18px; color: magenta\"> Word Tokenization Using TreebankWordTokenizer </p>"
   ]
  },
  {
   "cell_type": "code",
   "execution_count": 14,
   "id": "d82f5ef1",
   "metadata": {},
   "outputs": [
    {
     "data": {
      "text/plain": [
       "['Panic',\n",
       " 'as',\n",
       " 'nationwide',\n",
       " 'pharmacy',\n",
       " 'chain',\n",
       " 'to',\n",
       " 'disappear',\n",
       " 'amid',\n",
       " 'bankruptcy',\n",
       " 'and',\n",
       " 'mass',\n",
       " 'closures',\n",
       " '.']"
      ]
     },
     "execution_count": 14,
     "metadata": {},
     "output_type": "execute_result"
    }
   ],
   "source": [
    "from nltk.tokenize import TreebankWordTokenizer\n",
    "\n",
    "tokenizer = TreebankWordTokenizer()\n",
    "tokenizer.tokenize(text)"
   ]
  },
  {
   "cell_type": "markdown",
   "id": "5d8b6c04",
   "metadata": {},
   "source": [
    "<p style=\"font-family:Verdana; font-size: 18px; color: magenta\"> Word Tokenization using WordPunctTokenizer</p>"
   ]
  },
  {
   "cell_type": "code",
   "execution_count": 17,
   "id": "67a47ad1",
   "metadata": {},
   "outputs": [
    {
     "data": {
      "text/plain": [
       "['Panic',\n",
       " 'as',\n",
       " 'nationwide',\n",
       " 'pharmacy',\n",
       " 'chain',\n",
       " 'to',\n",
       " 'disappear',\n",
       " 'amid',\n",
       " 'bankruptcy',\n",
       " 'and',\n",
       " 'mass',\n",
       " 'closures',\n",
       " '.']"
      ]
     },
     "execution_count": 17,
     "metadata": {},
     "output_type": "execute_result"
    }
   ],
   "source": [
    "from nltk.tokenize import WordPunctTokenizer\n",
    "\n",
    "tokenizer = WordPunctTokenizer()\n",
    "tokenizer.tokenize(\"Panic as nationwide pharmacy chain to disappear amid bankruptcy and mass closures.\")"
   ]
  },
  {
   "cell_type": "markdown",
   "id": "0d55f412",
   "metadata": {},
   "source": [
    "<p style=\"font-family:Verdana; font-size: 18px; color: magenta\"> Word Tokenization using Regular Expression </p>"
   ]
  },
  {
   "cell_type": "code",
   "execution_count": 18,
   "id": "3560fd7a",
   "metadata": {},
   "outputs": [
    {
     "data": {
      "text/plain": [
       "['Panic',\n",
       " 'as',\n",
       " 'nationwide',\n",
       " 'pharmacy',\n",
       " 'chain',\n",
       " 'to',\n",
       " 'disappear',\n",
       " 'amid',\n",
       " 'bankruptcy',\n",
       " 'and',\n",
       " 'mass',\n",
       " 'closures']"
      ]
     },
     "execution_count": 18,
     "metadata": {},
     "output_type": "execute_result"
    }
   ],
   "source": [
    "from nltk.tokenize import RegexpTokenizer\n",
    "\n",
    "tokenizer = RegexpTokenizer(r'\\w+')\n",
    "text = \"Panic as nationwide pharmacy chain to disappear amid bankruptcy and mass closures.\"\n",
    "tokenizer.tokenize(text)\n"
   ]
  },
  {
   "cell_type": "markdown",
   "id": "c89221b2",
   "metadata": {},
   "source": [
    "<p style=\"font-family:Verdana; font-size: 18px; color: orange\"> More Techniques for Tokenization</p> "
   ]
  },
  {
   "cell_type": "markdown",
   "id": "53726afa",
   "metadata": {},
   "source": [
    "<p style=\"font-family:Verdana; font-size: 18px; color: magenta\"> 1. Spacy: Spacy is NLP library </p>"
   ]
  },
  {
   "cell_type": "markdown",
   "id": "36af2863",
   "metadata": {},
   "source": [
    "<p style=\"font-family:Verdana; font-size: 18px; color: magenta\"> 2. BERT tokenizer: BERT uses WordPiece tokenizer</p>"
   ]
  },
  {
   "cell_type": "markdown",
   "id": "950488b0",
   "metadata": {},
   "source": [
    "<p style=\"font-family:Verdana; font-size: 18px; color: magenta\"> 3. Byte-Pair Encoding: Byte Pair Encoding (BPE)</p>"
   ]
  },
  {
   "cell_type": "markdown",
   "id": "0e3d7371",
   "metadata": {},
   "source": [
    "<p style=\"font-family:Verdana; font-size: 18px; color: magenta\"> 4. Sentence Piece: SentencePiece is another subword tokenization algorithm</p>"
   ]
  }
 ],
 "metadata": {
  "kernelspec": {
   "display_name": "base",
   "language": "python",
   "name": "python3"
  },
  "language_info": {
   "codemirror_mode": {
    "name": "ipython",
    "version": 3
   },
   "file_extension": ".py",
   "mimetype": "text/x-python",
   "name": "python",
   "nbconvert_exporter": "python",
   "pygments_lexer": "ipython3",
   "version": "3.12.7"
  }
 },
 "nbformat": 4,
 "nbformat_minor": 5
}
