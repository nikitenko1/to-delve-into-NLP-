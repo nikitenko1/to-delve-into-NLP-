{
 "cells": [
  {
   "cell_type": "markdown",
   "id": "2162c615",
   "metadata": {},
   "source": [
    "<p style=\"font-family:Verdana; font-size: 26px; color: magenta\"> 2.2 - Rule-Based Tokenization in NLP</p>"
   ]
  },
  {
   "cell_type": "markdown",
   "id": "10b4febe",
   "metadata": {},
   "source": [
    "<p style=\"font-family:Verdana; font-size: 18px; color: darkorange\"> Rule-based tokenization is a technique where a set of rules is applied to the input text to split it into tokens. </p>\n",
    "<p style=\"font-family:Verdana; font-size: 18px; color: darkorange\"> Steps for Rule-Based Tokenization: </p>\n"
   ]
  },
  {
   "cell_type": "markdown",
   "id": "9390f433",
   "metadata": {},
   "source": [
    "<p style=\"font-family:Verdana; font-size: 18px; color: yellow\"> Load the input text: </p>\n",
    "<p style=\"font-family:Verdana; font-size: 18px; color: yellow\"> Define the tokenization rules: </p>\n",
    "<p style=\"font-family:Verdana; font-size: 18px; color: yellow\"> Apply the rules to the input text: </p>\n",
    "<p style=\"font-family:Verdana; font-size: 18px; color: yellow\"> Output the tokens: </p>"
   ]
  },
  {
   "cell_type": "code",
   "execution_count": 1,
   "id": "241e3279",
   "metadata": {},
   "outputs": [],
   "source": [
    "import nltk "
   ]
  },
  {
   "cell_type": "markdown",
   "id": "dcaebabb",
   "metadata": {},
   "source": [
    "<p style=\"font-family:Verdana; font-size: 18px; color: magenta\"> Example #1 </p>"
   ]
  },
  {
   "cell_type": "code",
   "execution_count": 2,
   "id": "42aaec51",
   "metadata": {},
   "outputs": [
    {
     "name": "stdout",
     "output_type": "stream",
     "text": [
      "['The', 'quick', 'brown', 'fox', 'jumps', 'over', 'the', 'lazy', 'dog.']\n"
     ]
    }
   ],
   "source": [
    " # Step 1: Load the input text\n",
    "text = \"The quick brown fox jumps over the lazy dog.\"\n",
    "\n",
    "# Step 2: Define the tokenization rules (split on whitespace)\n",
    "tokens = text.split()\n",
    "\n",
    "# Step 4: Output the tokens\n",
    "print(tokens)"
   ]
  },
  {
   "cell_type": "markdown",
   "id": "1011967e",
   "metadata": {},
   "source": [
    "<p style=\"font-family:Verdana; font-size: 18px; color: magenta\"> Regular expression tokenization</p>"
   ]
  },
  {
   "cell_type": "code",
   "execution_count": 6,
   "id": "fe3e0b9d",
   "metadata": {},
   "outputs": [
    {
     "name": "stdout",
     "output_type": "stream",
     "text": [
      "Company Name: NLP-for-NLP\n",
      "Email address: NLPwww123@NLP.com\n"
     ]
    }
   ],
   "source": [
    "import re\n",
    "\n",
    "#Load the input text\n",
    "text = \"Hello, I am working at NLP-for-NLP and my email is NLPwww123@NLP.com.\"\n",
    "\n",
    "#Define the regular expression pattern\n",
    "pattern=r'([\\w]+-[\\w]+-[\\w]+)|([\\w\\.-]+@[\\w]+.[\\w]+)'\n",
    "\n",
    "# Find matches\n",
    "matches = re.findall(pattern, text)\n",
    "# print output\n",
    "for match in matches:\n",
    "    if match[0]:\n",
    "        print(f\"Company Name: {match[0]}\")\n",
    "    else:\n",
    "        print(f\"Email address: {match[1]}\")"
   ]
  },
  {
   "cell_type": "markdown",
   "id": "66ece6fb",
   "metadata": {},
   "source": [
    "<p style=\"font-family:Verdana; font-size: 18px; color: magenta\"> Punctuation tokenization</p>"
   ]
  },
  {
   "cell_type": "code",
   "execution_count": 7,
   "id": "abeb0842",
   "metadata": {},
   "outputs": [
    {
     "name": "stdout",
     "output_type": "stream",
     "text": [
      "['Hello', 'fellow', 'citizens', 'How', 'can', 'I', 'help', 'you']\n"
     ]
    }
   ],
   "source": [
    "# This approach splits the input text based on punctuation characters such as period, comma, or semicolon. \n",
    "# Load the input text\n",
    "text = \"Hello fellow citizens! How can I help you?\"\n",
    "\n",
    "# Define the regular expression pattern\n",
    "# Matches one or more non-alphanumeric characters\n",
    "pattern = r'\\W+' \n",
    "\n",
    "# Remove the punctuation and get the resulting string\n",
    "result = re.sub(pattern, ' ', text)\n",
    "\n",
    "# tokenize\n",
    "tokens = re.findall(r'\\b\\w+\\b|[^\\w\\s]', result)\n",
    "\n",
    "# Print the result\n",
    "print(tokens)"
   ]
  }
 ],
 "metadata": {
  "kernelspec": {
   "display_name": "base",
   "language": "python",
   "name": "python3"
  },
  "language_info": {
   "codemirror_mode": {
    "name": "ipython",
    "version": 3
   },
   "file_extension": ".py",
   "mimetype": "text/x-python",
   "name": "python",
   "nbconvert_exporter": "python",
   "pygments_lexer": "ipython3",
   "version": "3.12.7"
  }
 },
 "nbformat": 4,
 "nbformat_minor": 5
}
