{
 "cells": [
  {
   "cell_type": "markdown",
   "id": "2162c615",
   "metadata": {},
   "source": [
    "<p style=\"font-family:Verdana; font-size: 26px; color: magenta\"> 6.0 - POS(Parts-Of-Speech) Tagging in NLP</p>"
   ]
  },
  {
   "cell_type": "markdown",
   "id": "10b4febe",
   "metadata": {},
   "source": [
    " \n",
    "<p style=\"font-family:Verdana; font-size: 18px; color: darkorange\"> Parts of Speech tagging is a linguistic activity in Natural Language Processing (NLP) wherein each word in a document is given a particular part of speech (adverb, adjective, verb, etc.) or grammatical category</p>\n"
   ]
  },
  {
   "cell_type": "markdown",
   "id": "9390f433",
   "metadata": {},
   "source": [
    "<p style=\"font-family:Verdana; font-size: 18px; color: yellow\"> Workflow of POS Tagging in NLP</p>\n",
    "<p style=\"font-family:Verdana; font-size: 18px; color: yellow\"> Tokenization: Divide the input text into discrete tokens,</p>\n",
    "<p style=\"font-family:Verdana; font-size: 18px; color: yellow\"> Loading Language Models: To utilize a library such as NLTK or SpaCy</p>\n",
    "<p style=\"font-family:Verdana; font-size: 18px; color: yellow\"> Text Processing: If required, preprocess the text to handle special characters, convert it to lowercase, or eliminate superfluous information</p>\n",
    "<p style=\"font-family:Verdana; font-size: 18px; color: yellow\"> Linguistic Analysis: To determine the text's grammatical structure, use linguistic analysis.</p>\n",
    "<p style=\"font-family:Verdana; font-size: 18px; color: yellow\"> Part-of-Speech Tagging: </p>\n",
    "<p style=\"font-family:Verdana; font-size: 18px; color: yellow\"> Results Analysis: Verify the accuracy and consistency of the PoS tagging </p>"
   ]
  }
 ],
 "metadata": {
  "kernelspec": {
   "display_name": "base",
   "language": "python",
   "name": "python3"
  },
  "language_info": {
   "codemirror_mode": {
    "name": "ipython",
    "version": 3
   },
   "file_extension": ".py",
   "mimetype": "text/x-python",
   "name": "python",
   "nbconvert_exporter": "python",
   "pygments_lexer": "ipython3",
   "version": "3.12.7"
  }
 },
 "nbformat": 4,
 "nbformat_minor": 5
}
