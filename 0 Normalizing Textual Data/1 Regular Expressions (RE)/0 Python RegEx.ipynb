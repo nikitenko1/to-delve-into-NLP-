{
 "cells": [
  {
   "cell_type": "markdown",
   "id": "2162c615",
   "metadata": {},
   "source": [
    "<p style=\"font-family:Verdana; font-size: 26px; color: magenta\"> 1.0 - How to Use RegEx in Python?</p>"
   ]
  },
  {
   "cell_type": "markdown",
   "id": "10b4febe",
   "metadata": {},
   "source": [
    "<p style=\"font-family:Verdana; font-size: 18px; color: darkorange\"> A regular expression (regex) is a sequence of characters that define a search pattern.\n",
    "</p>"
   ]
  },
  {
   "cell_type": "markdown",
   "id": "75ac2781",
   "metadata": {},
   "source": [
    "<p style=\"font-family:Verdana; font-size: 18px; color: orange\"> 1. Start by understanding the special characters used in regex, such as \".\", \"*\", \"+\", \"?\", and more.</p>\n",
    "<p style=\"font-family:Verdana; font-size: 18px; color: orange\"> 2. Choose a programming language or tool that supports regex, such as Python, Perl, or grep.</p>\n",
    "<p style=\"font-family:Verdana; font-size: 18px; color: orange\"> 3. Write your pattern using the special characters and literal characters.</p>\n",
    "<p style=\"font-family:Verdana; font-size: 18px; color: orange\"> 4. Use the appropriate function or method to search for the pattern in a string.</p>"
   ]
  },
  {
   "cell_type": "code",
   "execution_count": 1,
   "id": "8aaf7fe3",
   "metadata": {},
   "outputs": [
    {
     "name": "stdout",
     "output_type": "stream",
     "text": [
      "Start Index: 116\n",
      "End Index: 123\n"
     ]
    }
   ],
   "source": [
    "import re\n",
    "\n",
    "s = 'As the volume of data grows so does the demand for skilled data scientists. ' \\\n",
    "'The most common languages used for data science are Python and R'\n",
    "\n",
    "match = re.search(r'science', s)\n",
    "\n",
    "print('Start Index:', match.start())\n",
    "print('End Index:', match.end())"
   ]
  },
  {
   "cell_type": "markdown",
   "id": "21c63f99",
   "metadata": {},
   "source": [
    "<p style=\"font-family:Verdana; font-size: 18px; color: magenta\"> RegEx Functions</p>"
   ]
  },
  {
   "cell_type": "markdown",
   "id": "dcaebabb",
   "metadata": {},
   "source": [
    "<p style=\"font-family:Verdana; font-size: 18px; color: magenta\"> 1. re.findall()</p>"
   ]
  },
  {
   "cell_type": "code",
   "execution_count": 6,
   "id": "241e3279",
   "metadata": {},
   "outputs": [
    {
     "data": {
      "text/plain": [
       "['123456789', '987654321']"
      ]
     },
     "execution_count": 6,
     "metadata": {},
     "output_type": "execute_result"
    }
   ],
   "source": [
    "string = \"\"\"Hello my Number is 123456789 and\n",
    "            my friend's number is 987654321\"\"\"\n",
    "pattern = r'\\d+'\n",
    "match = re.findall(pattern, string)\n",
    "match"
   ]
  },
  {
   "cell_type": "markdown",
   "id": "1011967e",
   "metadata": {},
   "source": [
    "<p style=\"font-family:Verdana; font-size: 18px; color: magenta\"> 2. re.compile() </p>"
   ]
  },
  {
   "cell_type": "markdown",
   "id": "1ffa9a17",
   "metadata": {},
   "source": [
    "> Example 1:"
   ]
  },
  {
   "cell_type": "code",
   "execution_count": 7,
   "id": "fe3e0b9d",
   "metadata": {},
   "outputs": [
    {
     "data": {
      "text/plain": [
       "['e', 'a', 'd', 'b', 'e', 'a']"
      ]
     },
     "execution_count": 7,
     "metadata": {},
     "output_type": "execute_result"
    }
   ],
   "source": [
    "# to find and list all lowercase letters from 'a' to 'e' in the input string\n",
    "pattern = re.compile('[a-e]')\n",
    "match = re.findall(pattern, 'Aye, said Mr. Gibenson Stark')\n",
    "match"
   ]
  },
  {
   "cell_type": "markdown",
   "id": "268b92a6",
   "metadata": {},
   "source": [
    "> Example 2: "
   ]
  },
  {
   "cell_type": "code",
   "execution_count": 9,
   "id": "38ca7997",
   "metadata": {},
   "outputs": [
    {
     "name": "stdout",
     "output_type": "stream",
     "text": [
      "['1', '1', '4', '1', '8', '8', '6']\n",
      "['11', '4', '1886']\n"
     ]
    }
   ],
   "source": [
    "# to find and list all single digits and sequences of digits in the given input strings\n",
    "p = re.compile(r'\\d')\n",
    "print(p.findall(\"I went to him at 11 A.M. on 4th July 1886\"))\n",
    "\n",
    "p = re.compile(r'\\d+')\n",
    "print(p.findall(\"I went to him at 11 A.M. on 4th July 1886\"))"
   ]
  },
  {
   "cell_type": "markdown",
   "id": "13eebde0",
   "metadata": {},
   "source": [
    "> Example 3:"
   ]
  },
  {
   "cell_type": "code",
   "execution_count": 12,
   "id": "8e9ad7c3",
   "metadata": {},
   "outputs": [
    {
     "name": "stdout",
     "output_type": "stream",
     "text": [
      "['H', 'e', 's', 'a', 'i', 'd', 'i', 'n', 's', 'o', 'm', 'e', '_', 'l', 'a', 'n', 'g']\n",
      "['I', 'went', 'to', 'him', 'at', '11', 'A', 'M', 'he', 'said', 'in', 'some_language']\n",
      "[' ', ' ', '?', '*', '*', ' ', ' ', '.']\n"
     ]
    }
   ],
   "source": [
    "# to find and list word characters, sequences of word characters, and non-word characters in input strings\n",
    "p = re.compile(r'\\w')\n",
    "print(p.findall(\"He said * in some_lang.\"))\n",
    "\n",
    "p = re.compile(r'\\w+')\n",
    "print(p.findall(\"I went to him at 11 A.M., he \\\n",
    "said *** in some_language.\"))\n",
    "\n",
    "p = re.compile(r'\\W') # and non-word characters\n",
    "print(p.findall(\"he said ?** in some_language.\"))"
   ]
  },
  {
   "cell_type": "markdown",
   "id": "4a0463b0",
   "metadata": {},
   "source": [
    "> Example 4:"
   ]
  },
  {
   "cell_type": "code",
   "execution_count": 13,
   "id": "62d784c8",
   "metadata": {},
   "outputs": [
    {
     "name": "stdout",
     "output_type": "stream",
     "text": [
      "['ab', 'abb', 'a', 'abbb']\n"
     ]
    }
   ],
   "source": [
    "# to find and list all occurrences of 'ab' followed by zero or more 'b' characters in the input string\n",
    "p = re.compile(r'ab*')\n",
    "print(p.findall(\"ababbaabbb\"))"
   ]
  },
  {
   "cell_type": "markdown",
   "id": "db98d28e",
   "metadata": {},
   "source": [
    "<p style=\"font-family:Verdana; font-size: 18px; color: magenta\"> 3. re.split() > re.split(pattern, string, maxsplit=0, flags=0)</p>"
   ]
  },
  {
   "cell_type": "markdown",
   "id": "f32ceed5",
   "metadata": {},
   "source": [
    "> Example 1:"
   ]
  },
  {
   "cell_type": "code",
   "execution_count": 15,
   "id": "9ccef78b",
   "metadata": {},
   "outputs": [
    {
     "name": "stdout",
     "output_type": "stream",
     "text": [
      "['Words', 'words', 'Words']\n",
      "['Word', 's', 'words', 'Words']\n",
      "['On', '12th', 'Jan', '2016', 'at', '11', '02', 'AM']\n",
      "['On ', 'th Jan ', ', at ', ':', ' AM']\n"
     ]
    }
   ],
   "source": [
    "from re import split\n",
    "\n",
    "print(split(r'\\W+', 'Words, words , Words'))\n",
    "print(split(r'\\W+', \"Word's words Words\"))\n",
    "print(split(r'\\W+', 'On 12th Jan 2016, at 11:02 AM'))\n",
    "print(split(r'\\d+', 'On 12th Jan 2016, at 11:02 AM'))"
   ]
  },
  {
   "cell_type": "markdown",
   "id": "0cf44b3d",
   "metadata": {},
   "source": [
    "> Example 2:"
   ]
  },
  {
   "cell_type": "code",
   "execution_count": 22,
   "id": "e1613c17",
   "metadata": {},
   "outputs": [
    {
     "name": "stdout",
     "output_type": "stream",
     "text": [
      "['On ', 'th Jan 2016, at 11:02 AM']\n",
      "['', 'y, ', 'oy oh ', 'oy, ', 'om', ' h', 'r', '']\n",
      "['A', 'y, Boy oh ', 'oy, ', 'om', ' h', 'r', '']\n"
     ]
    }
   ],
   "source": [
    "print(re.split(r'\\d+', 'On 12th Jan 2016, at 11:02 AM', 1))\n",
    "print(re.split(r'[a-f]+', 'Aey, Boy oh boy, come here', flags=re.IGNORECASE))\n",
    "print(re.split(r'[a-f]+', 'Aey, Boy oh boy, come here'))"
   ]
  },
  {
   "cell_type": "markdown",
   "id": "02ae5afd",
   "metadata": {},
   "source": [
    "<p style=\"font-family:Verdana; font-size: 18px; color: magenta\"> 4. re.sub() > re.sub(pattern, repl, string, count=0, flags=0)</p>"
   ]
  },
  {
   "cell_type": "markdown",
   "id": "8139869d",
   "metadata": {},
   "source": [
    "> Example 1:"
   ]
  },
  {
   "cell_type": "code",
   "execution_count": 23,
   "id": "49a7c76a",
   "metadata": {},
   "outputs": [
    {
     "name": "stdout",
     "output_type": "stream",
     "text": [
      "S~*ject has ~*er booked already\n",
      "S~*ject has Uber booked already\n",
      "S~*ject has Uber booked already\n",
      "Baked Beans & Spam\n"
     ]
    }
   ],
   "source": [
    "# replaces all occurrences of 'ub' with '~*' (case-insensitive): 'S~*ject has ~*er booked already'\n",
    "print(re.sub('ub', '~*', 'Subject has Uber booked already', \n",
    "             flags=re.IGNORECASE))\n",
    "# replaces all occurrences of 'ub' with '~*' (case-sensitive): 'S~*ject has Uber booked already'\n",
    "print(re.sub('ub', '~*', 'Subject has Uber booked already'))\n",
    "# replaces the first occurrence of 'ub' with '~*' (case-insensitive): 'S~*ject has Uber booked already'\n",
    "print(re.sub('ub', '~*', 'Subject has Uber booked already',\n",
    "             count=1, flags=re.IGNORECASE))\n",
    "# replaces 'AND' with ' & ' (case-insensitive): 'Baked Beans & Spam'\n",
    "print(re.sub(r'\\sAND\\s', ' & ', 'Baked Beans And Spam', \n",
    "             flags=re.IGNORECASE))"
   ]
  },
  {
   "cell_type": "markdown",
   "id": "e6a2799b",
   "metadata": {},
   "source": [
    "<p style=\"font-family:Verdana; font-size: 18px; color: magenta\"> 5. re.subn() > re.subn(pattern, repl, string, count=0, flags=0)</p>"
   ]
  },
  {
   "cell_type": "markdown",
   "id": "3a0a9c50",
   "metadata": {},
   "source": [
    "> Example:"
   ]
  },
  {
   "cell_type": "code",
   "execution_count": 24,
   "id": "d82f5ef1",
   "metadata": {},
   "outputs": [
    {
     "name": "stdout",
     "output_type": "stream",
     "text": [
      "('S~*ject has Uber booked already', 1)\n",
      "('S~*ject has ~*er booked already', 2)\n",
      "2\n",
      "S~*ject has ~*er booked already\n"
     ]
    }
   ],
   "source": [
    "# replaces all occurrences of a pattern in a string and returns a tuple with the modified string \n",
    "# and the count of substitutions made\n",
    "print(re.subn(r'ub', '~*', 'Subject has Uber booked already'))\n",
    "\n",
    "t = re.subn(r'ub', '~*', 'Subject has Uber booked already',\n",
    "            flags=re.IGNORECASE)\n",
    "print(t)\n",
    "print(len(t))\n",
    "print(t[0])"
   ]
  },
  {
   "cell_type": "markdown",
   "id": "5d8b6c04",
   "metadata": {},
   "source": [
    "<p style=\"font-family:Verdana; font-size: 18px; color: magenta\"> 6. re.escape() > re.escape(string)</p>"
   ]
  },
  {
   "cell_type": "markdown",
   "id": "d6be3ee7",
   "metadata": {},
   "source": [
    "> Example:"
   ]
  },
  {
   "cell_type": "code",
   "execution_count": 25,
   "id": "67a47ad1",
   "metadata": {},
   "outputs": [
    {
     "name": "stdout",
     "output_type": "stream",
     "text": [
      "This\\ is\\ Awesome\\ even\\ 1\\ AM\n",
      "I\\ Asked\\ what\\ is\\ this\\ \\[a\\-9\\],\\ he\\ said\\ \\\\t\\ \\^WoW\n"
     ]
    }
   ],
   "source": [
    "# is used to escape special characters in a string, making it safe to be used as a pattern\n",
    "print(re.escape(r\"This is Awesome even 1 AM\"))\n",
    "print(re.escape(r\"I Asked what is this [a-9], he said \\t ^WoW\"))"
   ]
  },
  {
   "cell_type": "markdown",
   "id": "0d55f412",
   "metadata": {},
   "source": [
    "<p style=\"font-family:Verdana; font-size: 18px; color: magenta\"> 7. re.search()</p>"
   ]
  },
  {
   "cell_type": "code",
   "execution_count": 26,
   "id": "3560fd7a",
   "metadata": {},
   "outputs": [
    {
     "name": "stdout",
     "output_type": "stream",
     "text": [
      "Match at index 14, 21\n",
      "Full match: June 24\n",
      "Month: June\n",
      "Day: 24\n"
     ]
    }
   ],
   "source": [
    "# This method either returns None (if the pattern doesn’t match), or a re.MatchObject contains information\n",
    "pattern = r\"([a-zA-Z]+) (\\d+)\"\n",
    "\n",
    "match = re.search(pattern, \"I was born on June 24\")\n",
    "if match != None:\n",
    "    print (\"Match at index %s, %s\" % (match.start(), match.end()))\n",
    "    print (\"Full match: %s\" % (match.group(0)))\n",
    "    print (\"Month: %s\" % (match.group(1)))\n",
    "    print (\"Day: %s\" % (match.group(2)))\n",
    "\n",
    "else:\n",
    "    print (\"The regex pattern does not match.\")"
   ]
  },
  {
   "cell_type": "markdown",
   "id": "c89221b2",
   "metadata": {},
   "source": [
    "<p style=\"font-family:Verdana; font-size: 18px; color: orange\"> Meta-characters</p> "
   ]
  },
  {
   "cell_type": "raw",
   "id": "f6297218",
   "metadata": {
    "vscode": {
     "languageId": "raw"
    }
   },
   "source": [
    "\n",
    "'\\s: matches any whitespace characters such as space and tab.'\n",
    "'\\S: matches any non-whitespace characters.' \n",
    "'\\d: matches any digit character.'\n",
    "'\\D: matches any non-digit characters.'\n",
    "'\\w : matches any word character (basically alpha-numeric)'\n",
    "'\\W: matches any non-word character.'\n",
    "'\\b: matches any word boundary (this would include spaces, dashes, commas, semi-colons, etc.'\n",
    "'[set_of_characters]: Matches any single character in set_of_characters. By default, the match is case-sensitive. '"
   ]
  },
  {
   "cell_type": "markdown",
   "id": "53726afa",
   "metadata": {},
   "source": [
    "<p style=\"font-family:Verdana; font-size: 18px; color: magenta\"> 1. \\ - Backslash</p>"
   ]
  },
  {
   "cell_type": "code",
   "execution_count": 38,
   "id": "fafaccc7",
   "metadata": {},
   "outputs": [
    {
     "name": "stdout",
     "output_type": "stream",
     "text": [
      "<re.Match object; span=(0, 1), match='g'>\n",
      "<re.Match object; span=(5, 6), match='.'>\n"
     ]
    }
   ],
   "source": [
    "s = 'geeks.forgeeks'\n",
    "\n",
    "# without using \\\n",
    "# The first search (re.search(r'.', s)) matches any character, not just the period\n",
    "match = re.search(r'.', s)\n",
    "print(match)\n",
    "\n",
    "# using \\\n",
    "# the second search (re.search(r'\\.', s)) specifically looks for and matches the period character\n",
    "match = re.search(r'\\.', s)\n",
    "print(match)"
   ]
  },
  {
   "cell_type": "markdown",
   "id": "36af2863",
   "metadata": {},
   "source": [
    "<p style=\"font-family:Verdana; font-size: 18px; color: magenta\"> 2. [] - Square Brackets</p>"
   ]
  },
  {
   "cell_type": "markdown",
   "id": "0db7cd5a",
   "metadata": {},
   "source": [
    "> Example:"
   ]
  },
  {
   "cell_type": "code",
   "execution_count": 31,
   "id": "0fa92dc3",
   "metadata": {},
   "outputs": [
    {
     "name": "stdout",
     "output_type": "stream",
     "text": [
      "['c', 'b', 'a', 'd']\n"
     ]
    }
   ],
   "source": [
    "string = \"The quick brown fox jumps over the lazy dog\"\n",
    "pattern = \"[a-d]\"\n",
    "result = re.findall(pattern, string)\n",
    "\n",
    "print(result)"
   ]
  },
  {
   "cell_type": "markdown",
   "id": "950488b0",
   "metadata": {},
   "source": [
    "<p style=\"font-family:Verdana; font-size: 18px; color: magenta\"> 3. ^ - Caret</p>"
   ]
  },
  {
   "cell_type": "markdown",
   "id": "b4be332a",
   "metadata": {},
   "source": [
    "> Example:"
   ]
  },
  {
   "cell_type": "code",
   "execution_count": 33,
   "id": "d33302db",
   "metadata": {},
   "outputs": [
    {
     "name": "stdout",
     "output_type": "stream",
     "text": [
      "Matched: The quick brown fox\n",
      "Matched: The lazy dog\n",
      "Not matched: A quick brown fox\n"
     ]
    }
   ],
   "source": [
    "# checks whether the string starts with the given character(s) or not\n",
    "pattern = r'^The'\n",
    "strings = ['The quick brown fox', 'The lazy dog', 'A quick brown fox']\n",
    "for string in strings:\n",
    "    if re.match(pattern, string):\n",
    "        print(f'Matched: {string}')\n",
    "    else:\n",
    "        print(f'Not matched: {string}')"
   ]
  },
  {
   "cell_type": "markdown",
   "id": "0e3d7371",
   "metadata": {},
   "source": [
    "<p style=\"font-family:Verdana; font-size: 18px; color: magenta\"> 4. $ - Dollar</p>"
   ]
  },
  {
   "cell_type": "markdown",
   "id": "34e5a046",
   "metadata": {},
   "source": [
    "> Example"
   ]
  },
  {
   "cell_type": "code",
   "execution_count": 34,
   "id": "d38c54e7",
   "metadata": {},
   "outputs": [
    {
     "name": "stdout",
     "output_type": "stream",
     "text": [
      "Match found!\n"
     ]
    }
   ],
   "source": [
    "# checks whether the string ends with the given character(s) or not\n",
    "string = \"Hello World!\"\n",
    "pattern = r\"World!$\"\n",
    "\n",
    "match = re.search(pattern, string)\n",
    "if match:\n",
    "    print(\"Match found!\")\n",
    "else:\n",
    "    print(\"Match not found.\")"
   ]
  },
  {
   "cell_type": "markdown",
   "id": "43b0bd2b",
   "metadata": {},
   "source": [
    "<p style=\"font-family:Verdana; font-size: 18px; color: magenta\"> 5. . - Dot</p>"
   ]
  },
  {
   "cell_type": "markdown",
   "id": "09f35a23",
   "metadata": {},
   "source": [
    "> Example:"
   ]
  },
  {
   "cell_type": "code",
   "execution_count": 35,
   "id": "1484c5db",
   "metadata": {},
   "outputs": [
    {
     "name": "stdout",
     "output_type": "stream",
     "text": [
      "Match found!\n"
     ]
    }
   ],
   "source": [
    "string = \"The quick brown fox jumps over the lazy dog.\"\n",
    "# The dot (.) in the pattern represents any character\n",
    "pattern = r\"brown.fox\"\n",
    "\n",
    "match = re.search(pattern, string)\n",
    "if match:\n",
    "    print(\"Match found!\")\n",
    "else:\n",
    "    print(\"Match not found.\")"
   ]
  },
  {
   "cell_type": "markdown",
   "id": "d62a7972",
   "metadata": {},
   "source": [
    "<p style=\"font-family:Verdana; font-size: 18px; color: magenta\"> 6. | - Or</p>"
   ]
  },
  {
   "cell_type": "markdown",
   "id": "3ad03c81",
   "metadata": {},
   "source": [
    "<p style=\"font-family:Verdana; font-size: 18px; color: magenta\"> 7. ? - Question Mark</p>"
   ]
  },
  {
   "cell_type": "markdown",
   "id": "b48e4f92",
   "metadata": {},
   "source": [
    "<p style=\"font-family:Verdana; font-size: 18px; color: magenta\"> 8.* - Star</p>"
   ]
  },
  {
   "cell_type": "markdown",
   "id": "4f009bb0",
   "metadata": {},
   "source": [
    "<p style=\"font-family:Verdana; font-size: 18px; color: magenta\"> 9. + - Plus</p>"
   ]
  },
  {
   "cell_type": "markdown",
   "id": "39046d2d",
   "metadata": {},
   "source": [
    "<p style=\"font-family:Verdana; font-size: 18px; color: magenta\"> 10. {m, n} - Braces</p>"
   ]
  },
  {
   "cell_type": "markdown",
   "id": "d0291be7",
   "metadata": {},
   "source": [
    "<p style=\"font-family:Verdana; font-size: 18px; color: magenta\"> 11. (<regex>) - Group</p>"
   ]
  }
 ],
 "metadata": {
  "kernelspec": {
   "display_name": "base",
   "language": "python",
   "name": "python3"
  },
  "language_info": {
   "codemirror_mode": {
    "name": "ipython",
    "version": 3
   },
   "file_extension": ".py",
   "mimetype": "text/x-python",
   "name": "python",
   "nbconvert_exporter": "python",
   "pygments_lexer": "ipython3",
   "version": "3.12.7"
  }
 },
 "nbformat": 4,
 "nbformat_minor": 5
}
