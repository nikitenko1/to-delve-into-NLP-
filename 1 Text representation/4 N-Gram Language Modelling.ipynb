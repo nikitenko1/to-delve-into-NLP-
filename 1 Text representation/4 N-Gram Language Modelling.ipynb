{
 "cells": [
  {
   "cell_type": "markdown",
   "id": "2162c615",
   "metadata": {},
   "source": [
    "<p style=\"font-family:Roboto; font-size: 26px; color: magenta\"> 1.4 - N-Gram Language Modelling with NLTK</p>"
   ]
  },
  {
   "cell_type": "markdown",
   "id": "1219b2de",
   "metadata": {},
   "source": [
    "<p style=\"font-family:Consolas; font-size: 18px; color: lightgreen\"> Language modeling is the way of determining the probability of any sequence of words. </p>"
   ]
  },
  {
   "cell_type": "markdown",
   "id": "94c7ca2d",
   "metadata": {},
   "source": [
    "<p style=\"font-family:Consolas; font-size: 18px; color: lightgreen\"> Language modeling is used in various applications such as </p>\n",
    "<p style=\"font-family:Consolas; font-size: 18px; color: lightgreen\"> 1. Speech Recognition</p>\n",
    "<p style=\"font-family:Consolas; font-size: 18px; color: lightgreen\"> 2. Spam filtering</p>\n",
    "<p style=\"font-family:Consolas; font-size: 18px; color: lightgreen\"> 3. etc.</p>"
   ]
  },
  {
   "cell_type": "markdown",
   "id": "a2560bb9",
   "metadata": {},
   "source": [
    "<p style=\"font-family:Roboto; font-size: 26px; color: magenta\"> Implementing N-Gram Language Modelling in NLTK</p>"
   ]
  },
  {
   "cell_type": "code",
   "execution_count": 1,
   "id": "dad70c74",
   "metadata": {},
   "outputs": [
    {
     "name": "stderr",
     "output_type": "stream",
     "text": [
      "[nltk_data] Downloading package reuters to\n",
      "[nltk_data]     C:\\Users\\38067\\AppData\\Roaming\\nltk_data...\n",
      "[nltk_data]   Package reuters is already up-to-date!\n",
      "[nltk_data] Downloading package punkt to\n",
      "[nltk_data]     C:\\Users\\38067\\AppData\\Roaming\\nltk_data...\n",
      "[nltk_data]   Package punkt is already up-to-date!\n"
     ]
    },
    {
     "data": {
      "text/plain": [
       "True"
      ]
     },
     "execution_count": 1,
     "metadata": {},
     "output_type": "execute_result"
    }
   ],
   "source": [
    "# Import necessary libraries\n",
    "import nltk\n",
    "from nltk import bigrams, trigrams\n",
    "from nltk.corpus import reuters\n",
    "from collections import defaultdict\n",
    "\n",
    "# Download necessary NLTK resources\n",
    "nltk.download('reuters')\n",
    "nltk.download('punkt')"
   ]
  },
  {
   "cell_type": "code",
   "execution_count": 2,
   "id": "6f67294e",
   "metadata": {},
   "outputs": [],
   "source": [
    "# Tokenize the text\n",
    "words = nltk.word_tokenize(' '.join(reuters.words()))\n",
    "\n",
    "# Create trigrams\n",
    "tri_grams = list(trigrams(words))\n",
    "\n",
    "# Build a trigram model\n",
    "model = defaultdict(lambda: defaultdict(lambda: 0))"
   ]
  },
  {
   "cell_type": "code",
   "execution_count": 3,
   "id": "180589ff",
   "metadata": {},
   "outputs": [],
   "source": [
    "# Count frequency of co-occurrence\n",
    "for w1, w2, w3 in tri_grams:\n",
    "    model[(w1, w2)][w3] += 1\n",
    "\n",
    "# Transform the counts into probabilities\n",
    "for w1_w2 in model:\n",
    "    total_count = float(sum(model[w1_w2].values()))\n",
    "    for w3 in model[w1_w2]:\n",
    "        model[w1_w2][w3] /= total_count"
   ]
  },
  {
   "cell_type": "code",
   "execution_count": 4,
   "id": "38c086ac",
   "metadata": {},
   "outputs": [],
   "source": [
    "# Function to predict the next word\n",
    "def predict_next_word(w1, w2):\n",
    "    \"\"\"\n",
    "    Predicts the next word based on the previous two words using the trained trigram model.\n",
    "    Args:\n",
    "    w1 (str): The first word.\n",
    "    w2 (str): The second word.\n",
    "\n",
    "    Returns:\n",
    "    str: The predicted next word.\n",
    "    \"\"\"\n",
    "    next_word = model[w1, w2]\n",
    "    if next_word:\n",
    "        predicted_word = max(next_word, key=next_word.get)  # Choose the most likely next word\n",
    "        return predicted_word\n",
    "    else:\n",
    "        return \"No prediction available\""
   ]
  },
  {
   "cell_type": "code",
   "execution_count": 6,
   "id": "5a5e048c",
   "metadata": {},
   "outputs": [
    {
     "name": "stdout",
     "output_type": "stream",
     "text": [
      "Next Word: of\n"
     ]
    }
   ],
   "source": [
    "# Example usage\n",
    "print(\"Next Word:\", predict_next_word('the', 'stock'))"
   ]
  },
  {
   "cell_type": "code",
   "execution_count": null,
   "id": "044ed5bf",
   "metadata": {},
   "outputs": [],
   "source": []
  }
 ],
 "metadata": {
  "kernelspec": {
   "display_name": "base",
   "language": "python",
   "name": "python3"
  },
  "language_info": {
   "codemirror_mode": {
    "name": "ipython",
    "version": 3
   },
   "file_extension": ".py",
   "mimetype": "text/x-python",
   "name": "python",
   "nbconvert_exporter": "python",
   "pygments_lexer": "ipython3",
   "version": "3.12.7"
  }
 },
 "nbformat": 4,
 "nbformat_minor": 5
}
