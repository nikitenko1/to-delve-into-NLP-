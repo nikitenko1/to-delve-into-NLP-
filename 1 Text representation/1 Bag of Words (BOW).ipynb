{
 "cells": [
  {
   "cell_type": "markdown",
   "id": "2162c615",
   "metadata": {},
   "source": [
    "<p style=\"font-family:Verdana; font-size: 26px; color: magenta\"> 1.1 - Bag of words (BoW) model in NLP</p>"
   ]
  },
  {
   "cell_type": "markdown",
   "id": "10b4febe",
   "metadata": {},
   "source": [
    "<p style=\"font-family:Consolas; font-size: 18px; color: lightgreen\"> Bag of Words model is used to preprocess the text by converting it into a bag of words, which keeps a count of the total occurrences of most frequently used words.</p>"
   ]
  },
  {
   "cell_type": "code",
   "execution_count": 4,
   "id": "826ff2c4",
   "metadata": {},
   "outputs": [],
   "source": [
    "text = '''\n",
    "Beans. I was trying to explain to somebody as we were flying in, that's corn.  \n",
    "That's beans. And they were very impressed at my agricultural knowledge. \n",
    "Please give it up for Amaury once again for that outstanding introduction. \n",
    "I have a bunch of good friends here today, including somebody who I served with, \n",
    "who is one of the finest senators in the country, and we're lucky to have him, your Senator, Dick Durbin is here. \n",
    "I also noticed, by the way, former Governor Edgar here, who I haven't seen in a long time, \n",
    "and somehow he has not aged and I have. And it's great to see you, Governor. \n",
    "I want to thank President Killeen and everybody at the U of I System for making it possible for me to be here today. \n",
    "And I am deeply honored at the Paul Douglas Award that is being given to me. \n",
    "He is somebody who set the path for so much outstanding public service here in Illinois. \n",
    "Now, I want to start by addressing the elephant in the room. \n",
    "I know people are still wondering why I didn't speak at the commencement.\n",
    "'''"
   ]
  },
  {
   "cell_type": "markdown",
   "id": "9390f433",
   "metadata": {},
   "source": [
    "<p style=\"font-family:Consolas; font-size: 18px; color: lightgreen\"> Step #1 : We will first preprocess the data, in order to: </p>\n",
    "<p style=\"font-family:Consolas; font-size: 18px; color: lightgreen\"> Convert text to lower case. </p>\n",
    "<p style=\"font-family:Consolas; font-size: 18px; color: lightgreen\"> Remove all non-word characters. </p>\n",
    "<p style=\"font-family:Consolas; font-size: 18px; color: lightgreen\"> Remove all punctuations. </p>"
   ]
  },
  {
   "cell_type": "code",
   "execution_count": 3,
   "id": "241e3279",
   "metadata": {},
   "outputs": [],
   "source": [
    "# Python3 code for preprocessing text\n",
    "import nltk\n",
    "import re\n",
    "import numpy as np"
   ]
  },
  {
   "cell_type": "code",
   "execution_count": 6,
   "id": "42aaec51",
   "metadata": {},
   "outputs": [
    {
     "data": {
      "text/plain": [
       "[' beans ',\n",
       " 'i was trying to explain to somebody as we were flying in that s corn ',\n",
       " 'that s beans ',\n",
       " 'and they were very impressed at my agricultural knowledge ',\n",
       " 'please give it up for amaury once again for that outstanding introduction ',\n",
       " 'i have a bunch of good friends here today including somebody who i served with who is one of the finest senators in the country and we re lucky to have him your senator dick durbin is here ',\n",
       " 'i also noticed by the way former governor edgar here who i haven t seen in a long time and somehow he has not aged and i have ',\n",
       " 'and it s great to see you governor ',\n",
       " 'i want to thank president killeen and everybody at the u of i system for making it possible for me to be here today ',\n",
       " 'and i am deeply honored at the paul douglas award that is being given to me ',\n",
       " 'he is somebody who set the path for so much outstanding public service here in illinois ',\n",
       " 'now i want to start by addressing the elephant in the room ',\n",
       " 'i know people are still wondering why i didn t speak at the commencement ']"
      ]
     },
     "execution_count": 6,
     "metadata": {},
     "output_type": "execute_result"
    }
   ],
   "source": [
    "# execute the text here as :\n",
    "# text = \"\"\" # place text here  \"\"\"\n",
    "dataset = nltk.sent_tokenize(text)\n",
    "for i in range(len(dataset)):\n",
    "    dataset[i] = dataset[i].lower()\n",
    "    dataset[i] = re.sub(r'\\W', ' ', dataset[i])\n",
    "    dataset[i] = re.sub(r'\\s+', ' ', dataset[i])\n",
    "\n",
    "dataset"
   ]
  },
  {
   "cell_type": "markdown",
   "id": "824d1307",
   "metadata": {},
   "source": [
    "<p style=\"font-family:Consolas; font-size: 18px; color: lightgreen\"> Step #2 : Obtaining most frequent words in our text. </p>\n",
    "<p style=\"font-family:Consolas; font-size: 18px; color: lightgreen\"> Next we tokenize each sentence to words.</p>\n",
    "<p style=\"font-family:Consolas; font-size: 18px; color: lightgreen\"> Now for each word in sentence, we check if the word exists in our dictionary.</p>\n",
    "<p style=\"font-family:Consolas; font-size: 18px; color: lightgreen\"> If it does, then we increment its count by 1. If it doesn't, we add it to our dictionary and set its count as 1.</p>"
   ]
  },
  {
   "cell_type": "code",
   "execution_count": 7,
   "id": "fe3e0b9d",
   "metadata": {},
   "outputs": [],
   "source": [
    "# Creating the Bag of Words model\n",
    "word2count = {}\n",
    "for data in dataset:\n",
    "    words = nltk.word_tokenize(data)\n",
    "    for word in words:\n",
    "        if word not in word2count.keys():\n",
    "            word2count[word] = 1\n",
    "        else:\n",
    "            word2count[word] += 1"
   ]
  },
  {
   "cell_type": "code",
   "execution_count": 14,
   "id": "5654d5bd",
   "metadata": {},
   "outputs": [
    {
     "name": "stdout",
     "output_type": "stream",
     "text": [
      "we have a total of 118 words.\n"
     ]
    }
   ],
   "source": [
    "print(f\"we have a total of {len(word2count)} words.\")"
   ]
  },
  {
   "cell_type": "code",
   "execution_count": 13,
   "id": "7cbd2a79",
   "metadata": {},
   "outputs": [],
   "source": [
    "import heapq\n",
    "freq_words = heapq.nlargest(100, word2count, key=word2count.get) "
   ]
  },
  {
   "cell_type": "markdown",
   "id": "487b6f8a",
   "metadata": {},
   "source": [
    "<p style=\"font-family:Consolas; font-size: 18px; color: lightgreen\"> Step #3 : Building the Bag of Words model</p>\n",
    "<p style=\"font-family:Consolas; font-size: 18px; color: lightgreen\">  In this step we construct a vector, which would tell us whether a word in each sentence is a frequent word or not. </p>\n",
    "<p style=\"font-family:Consolas; font-size: 18px; color: lightgreen\">  If a word in a sentence is a frequent word, we set it as 1, else we set it as 0.</p>"
   ]
  },
  {
   "cell_type": "code",
   "execution_count": 15,
   "id": "fef2dfcb",
   "metadata": {},
   "outputs": [],
   "source": [
    "X = []\n",
    "for data in dataset:\n",
    "    vector = []\n",
    "    for word in freq_words:\n",
    "        if word in nltk.word_tokenize(data):\n",
    "            vector.append(1)\n",
    "        else:\n",
    "            vector.append(0)\n",
    "    X.append(vector)\n",
    "X = np.asarray(X)"
   ]
  },
  {
   "cell_type": "code",
   "execution_count": 16,
   "id": "47a34f98",
   "metadata": {},
   "outputs": [
    {
     "data": {
      "text/plain": [
       "array([[0, 0, 0, ..., 0, 0, 0],\n",
       "       [1, 0, 1, ..., 0, 0, 0],\n",
       "       [0, 0, 0, ..., 0, 0, 0],\n",
       "       ...,\n",
       "       [0, 1, 0, ..., 1, 1, 1],\n",
       "       [1, 1, 1, ..., 0, 0, 0],\n",
       "       [1, 1, 0, ..., 0, 0, 0]], shape=(13, 100))"
      ]
     },
     "execution_count": 16,
     "metadata": {},
     "output_type": "execute_result"
    }
   ],
   "source": [
    "X "
   ]
  }
 ],
 "metadata": {
  "kernelspec": {
   "display_name": "base",
   "language": "python",
   "name": "python3"
  },
  "language_info": {
   "codemirror_mode": {
    "name": "ipython",
    "version": 3
   },
   "file_extension": ".py",
   "mimetype": "text/x-python",
   "name": "python",
   "nbconvert_exporter": "python",
   "pygments_lexer": "ipython3",
   "version": "3.12.7"
  }
 },
 "nbformat": 4,
 "nbformat_minor": 5
}
