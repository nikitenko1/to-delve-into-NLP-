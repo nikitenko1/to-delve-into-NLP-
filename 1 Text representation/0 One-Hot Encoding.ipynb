{
 "cells": [
  {
   "cell_type": "markdown",
   "id": "2162c615",
   "metadata": {},
   "source": [
    "<p style=\"font-family:Roboto; font-size: 26px; color: magenta\"> 1.0 - One Hot Encoding in Machine Learning</p>"
   ]
  },
  {
   "cell_type": "markdown",
   "id": "10b4febe",
   "metadata": {},
   "source": [
    "<p style=\"font-family:Consolas; font-size: 18px; color: lightgreen\"> One Hot Encoding is a method for converting categorical variables into a binary format.</p>\n",
    "<p style=\"font-family:Consolas; font-size: 18px; color: lightgreen\"> It creates new columns for each category where 1 means the category is present and 0 means it is not.  </p>\n"
   ]
  },
  {
   "cell_type": "markdown",
   "id": "34ff391c",
   "metadata": {},
   "source": [
    "<p style=\"font-family:Roboto; font-size: 26px; color: magenta\"> 1. Using Pandas</p>"
   ]
  },
  {
   "cell_type": "code",
   "execution_count": 11,
   "id": "92b0b570",
   "metadata": {},
   "outputs": [
    {
     "name": "stdout",
     "output_type": "stream",
     "text": [
      "Original Employee Data:\n",
      "   Employee id Gender Remarks\n",
      "0           10      M    Good\n",
      "1           20      F    Nice\n",
      "2           15      F    Good\n",
      "3           25      M   Great\n",
      "4           30      F    Nice\n",
      "\n",
      "One-Hot Encoded Data using Pandas:\n",
      "   Employee id  Gender_M  Remarks_Great  Remarks_Nice\n",
      "0           10      True          False         False\n",
      "1           20     False          False          True\n",
      "2           15     False          False         False\n",
      "3           25      True           True         False\n",
      "4           30     False          False          True\n",
      "\n"
     ]
    }
   ],
   "source": [
    "import pandas as pd\n",
    "from sklearn.preprocessing import OneHotEncoder\n",
    "\n",
    "data = {\n",
    "    'Employee id': [10, 20, 15, 25, 30],\n",
    "    'Gender': ['M', 'F', 'F', 'M', 'F'],\n",
    "    'Remarks': ['Good', 'Nice', 'Good', 'Great', 'Nice']\n",
    "}\n",
    "\n",
    "df = pd.DataFrame(data)\n",
    "print(f\"Original Employee Data:\\n{df}\\n\")\n",
    "# Use pd.get_dummies() to one-hot encode the categorical columns\n",
    "df_pandas_encoded = pd.get_dummies(df, columns=['Gender', 'Remarks'], drop_first=True)\n",
    "print(f\"One-Hot Encoded Data using Pandas:\\n{df_pandas_encoded}\\n\")"
   ]
  },
  {
   "cell_type": "markdown",
   "id": "2b3b4a6e",
   "metadata": {},
   "source": [
    "<p style=\"font-family:Roboto; font-size: 26px; color: magenta\"> 2. One Hot Encoding using Scikit Learn Library</p>"
   ]
  },
  {
   "cell_type": "code",
   "execution_count": 13,
   "id": "62000abf",
   "metadata": {},
   "outputs": [
    {
     "name": "stdout",
     "output_type": "stream",
     "text": [
      "Original Employee Data:\n",
      "   Employee id Gender Remarks\n",
      "0           10      M    Good\n",
      "1           20      F    Nice\n",
      "2           15      F    Good\n",
      "3           25      M   Great\n",
      "4           30      F    Nice\n",
      "\n",
      "One-Hot Encoded Data using Scikit-Learn:\n",
      "   Employee id  Gender_F  Gender_M  Remarks_Good  Remarks_Great  Remarks_Nice\n",
      "0           10       0.0       1.0           1.0            0.0           0.0\n",
      "1           20       1.0       0.0           0.0            0.0           1.0\n",
      "2           15       1.0       0.0           1.0            0.0           0.0\n",
      "3           25       0.0       1.0           0.0            1.0           0.0\n",
      "4           30       1.0       0.0           0.0            0.0           1.0\n",
      "\n"
     ]
    }
   ],
   "source": [
    "print(f\"Original Employee Data:\\n{df}\\n\")\n",
    "\n",
    "categorical_columns = df.select_dtypes(include=['object']).columns.tolist()\n",
    "encoder = OneHotEncoder(sparse_output=False)\n",
    "\n",
    "one_hot_encoded = encoder.fit_transform(df[categorical_columns])\n",
    "\n",
    "one_hot_df = pd.DataFrame(one_hot_encoded, \n",
    "                          columns=encoder.get_feature_names_out(categorical_columns))\n",
    "\n",
    "df_sklearn_encoded = pd.concat([df.drop(categorical_columns, axis=1), one_hot_df], axis=1)\n",
    "\n",
    "print(f\"One-Hot Encoded Data using Scikit-Learn:\\n{df_sklearn_encoded}\\n\")"
   ]
  },
  {
   "cell_type": "code",
   "execution_count": 6,
   "id": "8f04636d",
   "metadata": {},
   "outputs": [],
   "source": [
    "# Best Practices for One Hot Encoding\n",
    "# 1.Limit the Number of Categories:\n",
    "# 2.Use Feature Selection: \n",
    "# 3.Monitor Model Performance:\n",
    "# 4.Understand Your Data:"
   ]
  }
 ],
 "metadata": {
  "kernelspec": {
   "display_name": "base",
   "language": "python",
   "name": "python3"
  },
  "language_info": {
   "codemirror_mode": {
    "name": "ipython",
    "version": 3
   },
   "file_extension": ".py",
   "mimetype": "text/x-python",
   "name": "python",
   "nbconvert_exporter": "python",
   "pygments_lexer": "ipython3",
   "version": "3.12.7"
  }
 },
 "nbformat": 4,
 "nbformat_minor": 5
}
