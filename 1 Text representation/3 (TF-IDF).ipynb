{
 "cells": [
  {
   "cell_type": "markdown",
   "id": "2162c615",
   "metadata": {},
   "source": [
    "<p style=\"font-family:Roboto; font-size: 26px; color: magenta\"> 1.3 - Understanding TF-IDF (Term Frequency-Inverse Document Frequency)</p>"
   ]
  },
  {
   "cell_type": "markdown",
   "id": "1219b2de",
   "metadata": {},
   "source": [
    "<p style=\"font-family:Consolas; font-size: 18px; color: lightgreen\"> Converting Text into vectors with TF-IDF : Example</p>"
   ]
  },
  {
   "cell_type": "markdown",
   "id": "94c7ca2d",
   "metadata": {},
   "source": [
    "<p style=\"font-family:Consolas; font-size: 18px; color: lightgreen\"> Imagine we have a corpus (a collection of documents) with three documents:</p>\n",
    "<p style=\"font-family:Consolas; font-size: 18px; color: lightgreen\"> 1. Document 1: \"The cat sat on the mat.\"</p>\n",
    "<p style=\"font-family:Consolas; font-size: 18px; color: lightgreen\"> 2. Document 2: \"The dog played in the park.\"</p>\n",
    "<p style=\"font-family:Consolas; font-size: 18px; color: lightgreen\"> 3. Document 3: \"Cats and dogs are great pets.\"</p>"
   ]
  },
  {
   "cell_type": "markdown",
   "id": "a2560bb9",
   "metadata": {},
   "source": [
    "<p style=\"font-family:Roboto; font-size: 26px; color: magenta\"> Step 1: Calculate Term Frequency (TF)</p>"
   ]
  },
  {
   "cell_type": "markdown",
   "id": "168d5021",
   "metadata": {},
   "source": [
    "> For Document 1:\n",
    "\n",
    "* The word \"cat\" appears 1 time.\n",
    "* The total number of terms in Document 1 is 6 (\"the\", \"cat\", \"sat\", \"on\", \"the\", \"mat\").\n",
    "* So, TF(cat,Document 1) = 1/6"
   ]
  },
  {
   "cell_type": "markdown",
   "id": "1f837504",
   "metadata": {},
   "source": [
    "> For Document 2:\n",
    "\n",
    "* The word \"cat\" does not appear.\n",
    "* So, TF(cat,Document 2)=0."
   ]
  },
  {
   "cell_type": "markdown",
   "id": "23b64028",
   "metadata": {},
   "source": [
    "> For Document 3:\n",
    "\n",
    "* The word \"cat\" appears 1 time (as \"cats\").\n",
    "* The total number of terms in Document 3 is 6 (\"cats\", \"and\", \"dogs\", \"are\", \"great\", \"pets\").\n",
    "* So, TF(cat,Document 3)=1/6"
   ]
  },
  {
   "cell_type": "code",
   "execution_count": null,
   "id": "158d0094",
   "metadata": {},
   "outputs": [],
   "source": [
    "# In Document 1 and Document 3, the word \"cat\" has the same TF score. \n",
    "# This means it appears with the same relative frequency in both documents.\n",
    "\n",
    "# In Document 2, the TF score is 0 because the word \"cat\" does not appear."
   ]
  },
  {
   "cell_type": "markdown",
   "id": "c9a3518c",
   "metadata": {},
   "source": [
    "<p style=\"font-family:Roboto; font-size: 26px; color: magenta\"> Step 2: Calculate Inverse Document Frequency (IDF)</p>"
   ]
  },
  {
   "cell_type": "markdown",
   "id": "bb51715d",
   "metadata": {},
   "source": [
    "* Total number of documents in the corpus (D): 3.\n",
    "* Number of documents containing the term \"cat\": 2 (Document 1 and Document 3)."
   ]
  },
  {
   "cell_type": "code",
   "execution_count": 1,
   "id": "3b97d575",
   "metadata": {},
   "outputs": [],
   "source": [
    "# The IDF score for \"cat\" is relatively low. This indicates that the word \"cat\" is not very rare\n",
    "#  in the corpus—it appears in 2 out of 3 documents. \n",
    "\n",
    "# If a term appeared in only 1 document, its IDF score would be higher, indicating greater uniqueness."
   ]
  },
  {
   "cell_type": "markdown",
   "id": "6a90ae79",
   "metadata": {},
   "source": [
    "<p style=\"font-family:Roboto; font-size: 26px; color: magenta\"> Step 3: Calculate TF-IDF</p>"
   ]
  },
  {
   "cell_type": "markdown",
   "id": "b76cad1b",
   "metadata": {},
   "source": [
    "The TF-IDF score for \"cat\" is 0.029 in Document 1 and Document 3, and 0 in Document 2 that reflects both the frequency of the term in the document (TF) and its rarity across the corpus (IDF)."
   ]
  },
  {
   "cell_type": "markdown",
   "id": "a8b3b3a3",
   "metadata": {},
   "source": [
    "<p style=\"font-family:Roboto; font-size: 26px; color: magenta\"> Why is TF-IDF Useful in This Example?</p>"
   ]
  },
  {
   "cell_type": "markdown",
   "id": "0bd97677",
   "metadata": {},
   "source": [
    "* 1. Identifying Important Terms:\n",
    "* 2. Filtering Common Words: \n",
    "* 3. Highlighting Unique Terms:"
   ]
  },
  {
   "cell_type": "markdown",
   "id": "90e0cd2e",
   "metadata": {},
   "source": [
    "<p style=\"font-family:Roboto; font-size: 26px; color: magenta\"> Implementing TF-IDF in Sklearn with Python</p>"
   ]
  },
  {
   "cell_type": "code",
   "execution_count": 2,
   "id": "dad70c74",
   "metadata": {},
   "outputs": [],
   "source": [
    "# import required module\n",
    "from sklearn.feature_extraction.text import TfidfVectorizer"
   ]
  },
  {
   "cell_type": "code",
   "execution_count": 3,
   "id": "6f67294e",
   "metadata": {},
   "outputs": [],
   "source": [
    "# Collect strings from documents and create a corpus having a collection of strings from the documents d0, d1, and d2.\n",
    "# assign documents\n",
    "d0 = 'Geeks for geeks'\n",
    "d1 = 'Geeks'\n",
    "d2 = 'r2j'\n",
    "\n",
    "# merge documents into a single corpus\n",
    "string = [d0, d1, d2]"
   ]
  },
  {
   "cell_type": "code",
   "execution_count": 10,
   "id": "180589ff",
   "metadata": {},
   "outputs": [],
   "source": [
    "# Get tf-idf values from fit_transform() method.\n",
    "# create object\n",
    "tfidf = TfidfVectorizer()\n",
    "\n",
    "# get tf-df values\n",
    "result = tfidf.fit_transform(string)\n"
   ]
  },
  {
   "cell_type": "code",
   "execution_count": 11,
   "id": "38c086ac",
   "metadata": {},
   "outputs": [
    {
     "name": "stdout",
     "output_type": "stream",
     "text": [
      "\n",
      "idf values:\n",
      "for : 1.6931471805599454\n",
      "geeks : 1.2876820724517808\n",
      "r2j : 1.6931471805599454\n"
     ]
    }
   ],
   "source": [
    "# get idf values\n",
    "print('\\nidf values:')\n",
    "for ele1, ele2 in zip(tfidf.get_feature_names_out(), tfidf.idf_):\n",
    "    print(ele1, ':', ele2)"
   ]
  },
  {
   "cell_type": "code",
   "execution_count": 12,
   "id": "5a5e048c",
   "metadata": {},
   "outputs": [
    {
     "name": "stdout",
     "output_type": "stream",
     "text": [
      "\n",
      "Word indexes:\n",
      "{'geeks': 1, 'for': 0, 'r2j': 2}\n",
      "\n",
      "tf-idf value:\n",
      "<Compressed Sparse Row sparse matrix of dtype 'float64'\n",
      "\twith 4 stored elements and shape (3, 3)>\n",
      "  Coords\tValues\n",
      "  (0, 1)\t0.8355915419449176\n",
      "  (0, 0)\t0.5493512310263033\n",
      "  (1, 1)\t1.0\n",
      "  (2, 2)\t1.0\n",
      "\n",
      "tf-idf values in matrix form:\n",
      "[[0.54935123 0.83559154 0.        ]\n",
      " [0.         1.         0.        ]\n",
      " [0.         0.         1.        ]]\n"
     ]
    }
   ],
   "source": [
    "# Display tf-idf values along with indexing.\n",
    "# get indexing\n",
    "print('\\nWord indexes:')\n",
    "print(tfidf.vocabulary_)\n",
    "\n",
    "# display tf-idf values\n",
    "print('\\ntf-idf value:')\n",
    "print(result)\n",
    "\n",
    "# in matrix form\n",
    "print('\\ntf-idf values in matrix form:')\n",
    "print(result.toarray())"
   ]
  },
  {
   "cell_type": "markdown",
   "id": "79ce4b01",
   "metadata": {},
   "source": [
    "<p style=\"font-family:Roboto; font-size: 26px; color: magenta\"> Example 1: Below is the complete program based on the above approach:</p>"
   ]
  },
  {
   "cell_type": "code",
   "execution_count": 13,
   "id": "20228bf3",
   "metadata": {},
   "outputs": [
    {
     "name": "stdout",
     "output_type": "stream",
     "text": [
      "\n",
      "idf values:\n",
      "for : 1.6931471805599454\n",
      "geeks : 1.2876820724517808\n",
      "r2j : 1.6931471805599454\n",
      "\n",
      "Word indexes:\n",
      "{'geeks': 1, 'for': 0, 'r2j': 2}\n",
      "\n",
      "tf-idf value:\n",
      "<Compressed Sparse Row sparse matrix of dtype 'float64'\n",
      "\twith 4 stored elements and shape (3, 3)>\n",
      "  Coords\tValues\n",
      "  (0, 1)\t0.8355915419449176\n",
      "  (0, 0)\t0.5493512310263033\n",
      "  (1, 1)\t1.0\n",
      "  (2, 2)\t1.0\n",
      "\n",
      "tf-idf values in matrix form:\n",
      "[[0.54935123 0.83559154 0.        ]\n",
      " [0.         1.         0.        ]\n",
      " [0.         0.         1.        ]]\n"
     ]
    }
   ],
   "source": [
    "# import required module\n",
    "from sklearn.feature_extraction.text import TfidfVectorizer\n",
    "\n",
    "# assign documents\n",
    "d0 = 'Geeks for geeks'\n",
    "d1 = 'Geeks'\n",
    "d2 = 'r2j'\n",
    "\n",
    "# merge documents into a single corpus\n",
    "string = [d0, d1, d2]\n",
    "\n",
    "# create object\n",
    "tfidf = TfidfVectorizer()\n",
    "\n",
    "# get tf-df values\n",
    "result = tfidf.fit_transform(string)\n",
    "\n",
    "# get idf values\n",
    "print('\\nidf values:')\n",
    "for ele1, ele2 in zip(tfidf.get_feature_names_out(), tfidf.idf_):\n",
    "    print(ele1, ':', ele2)\n",
    "\n",
    "# get indexing\n",
    "print('\\nWord indexes:')\n",
    "print(tfidf.vocabulary_)\n",
    "\n",
    "# display tf-idf values\n",
    "print('\\ntf-idf value:')\n",
    "print(result)\n",
    "\n",
    "# in matrix form\n",
    "print('\\ntf-idf values in matrix form:')\n",
    "print(result.toarray())"
   ]
  },
  {
   "cell_type": "markdown",
   "id": "e0692b2e",
   "metadata": {},
   "source": [
    "<p style=\"font-family:Roboto; font-size: 26px; color: magenta\"> Example 2: Here, tf-idf values are computed from a corpus having unique values. </p>"
   ]
  },
  {
   "cell_type": "code",
   "execution_count": 14,
   "id": "275cf5bc",
   "metadata": {},
   "outputs": [
    {
     "name": "stdout",
     "output_type": "stream",
     "text": [
      "\n",
      "Word indexes:\n",
      "{'geek1': 0, 'geek2': 1, 'geek3': 2, 'geek4': 3}\n",
      "\n",
      "tf-idf values:\n",
      "<Compressed Sparse Row sparse matrix of dtype 'float64'\n",
      "\twith 4 stored elements and shape (4, 4)>\n",
      "  Coords\tValues\n",
      "  (0, 0)\t1.0\n",
      "  (1, 1)\t1.0\n",
      "  (2, 2)\t1.0\n",
      "  (3, 3)\t1.0\n"
     ]
    }
   ],
   "source": [
    "# import required module\n",
    "from sklearn.feature_extraction.text import TfidfVectorizer\n",
    "\n",
    "# assign documents\n",
    "d0 = 'geek1'\n",
    "d1 = 'geek2'\n",
    "d2 = 'geek3'\n",
    "d3 = 'geek4'\n",
    "\n",
    "# merge documents into a single corpus\n",
    "string = [d0, d1, d2, d3]\n",
    "\n",
    "# create object\n",
    "tfidf = TfidfVectorizer()\n",
    "\n",
    "# get tf-df values\n",
    "result = tfidf.fit_transform(string)\n",
    "\n",
    "# get indexing\n",
    "print('\\nWord indexes:')\n",
    "print(tfidf.vocabulary_)\n",
    "\n",
    "# display tf-idf values\n",
    "print('\\ntf-idf values:')\n",
    "print(result)"
   ]
  },
  {
   "cell_type": "markdown",
   "id": "989bfb7e",
   "metadata": {},
   "source": [
    "<p style=\"font-family:Roboto; font-size: 26px; color: magenta\"> Example 3: In this program, tf-idf values are computed from a corpus having similar documents.</p>"
   ]
  },
  {
   "cell_type": "code",
   "execution_count": 15,
   "id": "f071ca7a",
   "metadata": {},
   "outputs": [
    {
     "name": "stdout",
     "output_type": "stream",
     "text": [
      "\n",
      "Word indexes:\n",
      "{'geeks': 1, 'for': 0}\n",
      "\n",
      "tf-idf values:\n",
      "<Compressed Sparse Row sparse matrix of dtype 'float64'\n",
      "\twith 4 stored elements and shape (2, 2)>\n",
      "  Coords\tValues\n",
      "  (0, 1)\t0.8944271909999159\n",
      "  (0, 0)\t0.4472135954999579\n",
      "  (1, 1)\t0.8944271909999159\n",
      "  (1, 0)\t0.4472135954999579\n"
     ]
    }
   ],
   "source": [
    "# import required module\n",
    "from sklearn.feature_extraction.text import TfidfVectorizer\n",
    "\n",
    "# assign documents\n",
    "d0 = 'Geeks for geeks!'\n",
    "d1 = 'Geeks for geeks!'\n",
    "\n",
    "\n",
    "# merge documents into a single corpus\n",
    "string = [d0, d1]\n",
    "\n",
    "# create object\n",
    "tfidf = TfidfVectorizer()\n",
    "\n",
    "# get tf-df values\n",
    "result = tfidf.fit_transform(string)\n",
    "\n",
    "# get indexing\n",
    "print('\\nWord indexes:')\n",
    "print(tfidf.vocabulary_)\n",
    "\n",
    "# display tf-idf values\n",
    "print('\\ntf-idf values:')\n",
    "print(result)"
   ]
  },
  {
   "cell_type": "markdown",
   "id": "62e9e2ee",
   "metadata": {},
   "source": [
    "<p style=\"font-family:Roboto; font-size: 26px; color: magenta\"> Example 4: Below is the program in which we try to calculate tf-idf value of a single word geeks is repeated multiple times in multiple documents.</p>"
   ]
  },
  {
   "cell_type": "code",
   "execution_count": 16,
   "id": "c60589a2",
   "metadata": {},
   "outputs": [
    {
     "name": "stdout",
     "output_type": "stream",
     "text": [
      "\n",
      "Word indexes:\n",
      "{'geeks': 0}\n",
      "\n",
      "tf-idf values:\n",
      "<Compressed Sparse Row sparse matrix of dtype 'float64'\n",
      "\twith 5 stored elements and shape (5, 1)>\n",
      "  Coords\tValues\n",
      "  (0, 0)\t1.0\n",
      "  (1, 0)\t1.0\n",
      "  (2, 0)\t1.0\n",
      "  (3, 0)\t1.0\n",
      "  (4, 0)\t1.0\n"
     ]
    }
   ],
   "source": [
    "# import required module\n",
    "from sklearn.feature_extraction.text import TfidfVectorizer\n",
    "\n",
    "# assign corpus\n",
    "string = ['Geeks geeks']*5\n",
    "\n",
    "# create object\n",
    "tfidf = TfidfVectorizer()\n",
    "\n",
    "# get tf-df values\n",
    "result = tfidf.fit_transform(string)\n",
    "\n",
    "# get indexing\n",
    "print('\\nWord indexes:')\n",
    "print(tfidf.vocabulary_)\n",
    "\n",
    "# display tf-idf values\n",
    "print('\\ntf-idf values:')\n",
    "print(result)"
   ]
  },
  {
   "cell_type": "code",
   "execution_count": null,
   "id": "598ad14a",
   "metadata": {},
   "outputs": [],
   "source": []
  }
 ],
 "metadata": {
  "kernelspec": {
   "display_name": "base",
   "language": "python",
   "name": "python3"
  },
  "language_info": {
   "codemirror_mode": {
    "name": "ipython",
    "version": 3
   },
   "file_extension": ".py",
   "mimetype": "text/x-python",
   "name": "python",
   "nbconvert_exporter": "python",
   "pygments_lexer": "ipython3",
   "version": "3.12.7"
  }
 },
 "nbformat": 4,
 "nbformat_minor": 5
}
