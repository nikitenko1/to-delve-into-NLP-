{
 "cells": [
  {
   "cell_type": "markdown",
   "id": "2162c615",
   "metadata": {},
   "source": [
    "<p style=\"font-family:Verdana; font-size: 26px; color: magenta\"> 3.0 - Lemmatization reduces words to their base or root form.</p>"
   ]
  },
  {
   "cell_type": "markdown",
   "id": "9390f433",
   "metadata": {},
   "source": [
    "<p style=\"font-family:Verdana; font-size: 18px; color: yellow\"> Examples of lemmatization:</p>\n",
    "<p style=\"font-family:Verdana; font-size: 18px; color: yellow\"> -> rocks : rock</p>\n",
    "<p style=\"font-family:Verdana; font-size: 18px; color: yellow\"> -> corpora : corpus</p>\n",
    "<p style=\"font-family:Verdana; font-size: 18px; color: yellow\"> -> better : good</p>"
   ]
  },
  {
   "cell_type": "code",
   "execution_count": 1,
   "id": "241e3279",
   "metadata": {},
   "outputs": [],
   "source": [
    "from nltk import word_tokenize\n",
    "from nltk.tokenize import MWETokenizer"
   ]
  },
  {
   "cell_type": "markdown",
   "id": "dcaebabb",
   "metadata": {},
   "source": [
    "<p style=\"font-family:Verdana; font-size: 18px; color: magenta\"> Lemmatization Techniques 1. Rule Based Lemmatization</p>"
   ]
  },
  {
   "cell_type": "markdown",
   "id": "d86be10a",
   "metadata": {},
   "source": [
    "<p style=\"font-family:Verdana; font-size: 18px; color: magenta\"> Lemmatization Techniques 2. Dictionary-Based Lemmatization</p>"
   ]
  },
  {
   "cell_type": "markdown",
   "id": "4b18f91c",
   "metadata": {},
   "source": [
    "<p style=\"font-family:Verdana; font-size: 18px; color: magenta\"> Lemmatization Techniques 3. Machine Learning-Based Lemmatization</p>"
   ]
  },
  {
   "cell_type": "markdown",
   "id": "5ef39b6b",
   "metadata": {},
   "source": [
    "<p style=\"font-family:Verdana; font-size: 18px; color: yellow\"> Below is the implementation of lemmatization words using NLTK</p>"
   ]
  },
  {
   "cell_type": "code",
   "execution_count": 1,
   "id": "9fd073a5",
   "metadata": {},
   "outputs": [
    {
     "name": "stdout",
     "output_type": "stream",
     "text": [
      "rocks : rock\n",
      "corpora : corpus\n",
      "better : good\n"
     ]
    }
   ],
   "source": [
    "# import these modules\n",
    "from nltk.stem import WordNetLemmatizer\n",
    "\n",
    "lemmatizer = WordNetLemmatizer()\n",
    "\n",
    "print(\"rocks :\", lemmatizer.lemmatize(\"rocks\"))\n",
    "print(\"corpora :\", lemmatizer.lemmatize(\"corpora\"))\n",
    "\n",
    "# a denotes adjective in \"pos\"\n",
    "print(\"better :\", lemmatizer.lemmatize(\"better\", pos=\"a\"))"
   ]
  }
 ],
 "metadata": {
  "kernelspec": {
   "display_name": "base",
   "language": "python",
   "name": "python3"
  },
  "language_info": {
   "codemirror_mode": {
    "name": "ipython",
    "version": 3
   },
   "file_extension": ".py",
   "mimetype": "text/x-python",
   "name": "python",
   "nbconvert_exporter": "python",
   "pygments_lexer": "ipython3",
   "version": "3.12.7"
  }
 },
 "nbformat": 4,
 "nbformat_minor": 5
}
